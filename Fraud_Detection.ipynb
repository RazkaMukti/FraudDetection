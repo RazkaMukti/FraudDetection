{
  "nbformat": 4,
  "nbformat_minor": 0,
  "metadata": {
    "colab": {
      "provenance": []
    },
    "kernelspec": {
      "name": "python3",
      "display_name": "Python 3"
    },
    "language_info": {
      "name": "python"
    }
  },
  "cells": [
    {
      "cell_type": "code",
      "source": [
        "# for importing file\n",
        "import pandas as pd\n",
        "import numpy as np\n",
        "\n",
        "# for logistic regresssion\n",
        "from sklearn.model_selection import train_test_split\n",
        "from sklearn.linear_model import LogisticRegression\n",
        "from sklearn.metrics import accuracy_score\n",
        "import statsmodels.api as sm\n",
        "\n",
        "# for visualization\n",
        "import seaborn as sns\n",
        "import matplotlib.pyplot as plt\n",
        "\n",
        "# for import json file\n",
        "import json  \n",
        "\n",
        "# for uploading file from gdrive\n",
        "from google.colab import drive\n",
        "drive.mount('/content/drive')"
      ],
      "metadata": {
        "id": "8Wvg-_Snzsg_",
        "colab": {
          "base_uri": "https://localhost:8080/"
        },
        "outputId": "15ef9a3b-b411-4a12-fe35-6a795e6396b3"
      },
      "execution_count": null,
      "outputs": [
        {
          "output_type": "stream",
          "name": "stderr",
          "text": [
            "/usr/local/lib/python3.7/dist-packages/statsmodels/tools/_testing.py:19: FutureWarning: pandas.util.testing is deprecated. Use the functions in the public API at pandas.testing instead.\n",
            "  import pandas.util.testing as tm\n"
          ]
        },
        {
          "output_type": "stream",
          "name": "stdout",
          "text": [
            "Mounted at /content/drive\n"
          ]
        }
      ]
    },
    {
      "cell_type": "code",
      "source": [
        "# loading the dataset to a Pandas DataFrame\n",
        "df = pd.read_json(r'/content/drive/MyDrive/json/transactions.json', lines=True)"
      ],
      "metadata": {
        "id": "5WBhJa6M7tkt"
      },
      "execution_count": null,
      "outputs": []
    },
    {
      "cell_type": "code",
      "source": [
        "# first 15 rows of the dataset\n",
        "pd.set_option('display.max_columns', None)\n",
        "df.head(15)"
      ],
      "metadata": {
        "colab": {
          "base_uri": "https://localhost:8080/",
          "height": 688
        },
        "id": "HXB6dEnc8cmc",
        "outputId": "d865bcb1-462c-4fe1-c335-68127a97454f"
      },
      "execution_count": null,
      "outputs": [
        {
          "output_type": "execute_result",
          "data": {
            "text/plain": [
              "    accountNumber  customerId  creditLimit  availableMoney  \\\n",
              "0       733493772   733493772         5000         5000.00   \n",
              "1       733493772   733493772         5000         4888.67   \n",
              "2       733493772   733493772         5000         4863.92   \n",
              "3       733493772   733493772         5000         4676.52   \n",
              "4       733493772   733493772         5000         4449.18   \n",
              "5       733493772   733493772         5000         4449.18   \n",
              "6       733493772   733493772         5000         4439.38   \n",
              "7       733493772   733493772         5000         4191.39   \n",
              "8       733493772   733493772         5000         4191.39   \n",
              "9       733493772   733493772         5000         4179.85   \n",
              "10      733493772   733493772         5000         4191.39   \n",
              "11      733493772   733493772         5000         4137.75   \n",
              "12      733493772   733493772         5000         3877.12   \n",
              "13      733493772   733493772         5000         3873.99   \n",
              "14      733493772   733493772         5000         3807.41   \n",
              "\n",
              "    transactionDateTime  transactionAmount             merchantName  \\\n",
              "0   2016-01-08T19:04:50             111.33                     Lyft   \n",
              "1   2016-01-09T22:32:39              24.75                     Uber   \n",
              "2   2016-01-11T13:36:55             187.40                     Lyft   \n",
              "3   2016-01-11T22:47:46             227.34                     Lyft   \n",
              "4   2016-01-16T01:41:11               0.00                     Lyft   \n",
              "5   2016-01-16T21:35:27               9.80             Fresh eCards   \n",
              "6   2016-01-24T07:54:01             247.99                     Uber   \n",
              "7   2016-01-26T05:28:24               0.00  Universe Massage #95463   \n",
              "8   2016-01-26T12:18:14              11.54  Universe Massage #70014   \n",
              "9   2016-01-26T12:19:15              11.54  Universe Massage #70014   \n",
              "10  2016-01-29T13:23:35              78.64                     Lyft   \n",
              "11  2016-02-04T23:25:31             260.63                     Uber   \n",
              "12  2016-02-09T06:14:59               3.13                     Lyft   \n",
              "13  2016-02-09T15:46:51              66.58                     Lyft   \n",
              "14  2016-02-13T08:19:44              65.77                     Lyft   \n",
              "\n",
              "   acqCountry merchantCountryCode posEntryMode posConditionCode  \\\n",
              "0          US                  US           05               01   \n",
              "1          US                  US           09               01   \n",
              "2          US                  US           05               01   \n",
              "3          US                  US           02               01   \n",
              "4          US                  US           02               01   \n",
              "5          US                  US           05               01   \n",
              "6                              US           05               01   \n",
              "7          US                  US           05               01   \n",
              "8          US                  US           05               01   \n",
              "9          US                  US           05               01   \n",
              "10         US                  US           05               01   \n",
              "11         US                  US           05               01   \n",
              "12         US                  US           90               01   \n",
              "13         US                  US           02               01   \n",
              "14         US                  US           09               01   \n",
              "\n",
              "   merchantCategoryCode currentExpDate accountOpenDate  \\\n",
              "0             rideshare        04/2020      2014-08-03   \n",
              "1             rideshare        06/2023      2014-08-03   \n",
              "2             rideshare        12/2027      2014-08-03   \n",
              "3             rideshare        09/2029      2014-08-03   \n",
              "4             rideshare        10/2024      2014-08-03   \n",
              "5          online_gifts        02/2021      2014-08-03   \n",
              "6             rideshare        01/2026      2014-08-03   \n",
              "7         personal care        12/2031      2014-08-03   \n",
              "8         personal care        04/2024      2014-08-03   \n",
              "9         personal care        04/2024      2014-08-03   \n",
              "10            rideshare        07/2025      2014-08-03   \n",
              "11            rideshare        09/2030      2014-08-03   \n",
              "12            rideshare        05/2022      2014-08-03   \n",
              "13            rideshare        05/2026      2014-08-03   \n",
              "14            rideshare        10/2028      2014-08-03   \n",
              "\n",
              "   dateOfLastAddressChange  cardCVV  enteredCVV  cardLast4Digits  \\\n",
              "0               2014-08-03      492         492             9184   \n",
              "1               2014-08-03      492         492             9184   \n",
              "2               2014-08-03      492         492             9184   \n",
              "3               2014-08-03      492         492             9184   \n",
              "4               2014-08-03      492         492             9184   \n",
              "5               2014-08-03      492         492             9184   \n",
              "6               2014-08-03      492         492             9184   \n",
              "7               2014-08-03      492         492             9184   \n",
              "8               2014-08-03      492         492             9184   \n",
              "9               2014-08-03      492         492             9184   \n",
              "10              2014-08-03      492         492             9184   \n",
              "11              2014-08-03      492         492             9184   \n",
              "12              2014-08-03      492         492             9184   \n",
              "13              2014-08-03      492         492             9184   \n",
              "14              2014-08-03      492         492             9184   \n",
              "\n",
              "         transactionType  isFraud echoBuffer  currentBalance merchantCity  \\\n",
              "0               PURCHASE     True                       0.00                \n",
              "1               PURCHASE    False                     111.33                \n",
              "2               PURCHASE    False                     136.08                \n",
              "3               PURCHASE     True                     323.48                \n",
              "4   ADDRESS_VERIFICATION    False                     550.82                \n",
              "5               PURCHASE    False                     550.82                \n",
              "6               PURCHASE    False                     560.62                \n",
              "7   ADDRESS_VERIFICATION    False                     808.61                \n",
              "8               PURCHASE    False                     808.61                \n",
              "9               REVERSAL    False                     820.15                \n",
              "10              PURCHASE    False                     808.61                \n",
              "11              PURCHASE    False                     862.25                \n",
              "12              PURCHASE    False                    1122.88                \n",
              "13              PURCHASE    False                    1126.01                \n",
              "14              PURCHASE    False                    1192.59                \n",
              "\n",
              "   merchantState merchantZip  cardPresent posOnPremises recurringAuthInd  \\\n",
              "0                                   False                                  \n",
              "1                                   False                                  \n",
              "2                                   False                                  \n",
              "3                                   False                                  \n",
              "4                                   False                                  \n",
              "5                                   False                                  \n",
              "6                                   False                                  \n",
              "7                                   False                                  \n",
              "8                                    True                                  \n",
              "9                                    True                                  \n",
              "10                                  False                                  \n",
              "11                                  False                                  \n",
              "12                                  False                                  \n",
              "13                                  False                                  \n",
              "14                                  False                                  \n",
              "\n",
              "    expirationDateKeyInMatch  \n",
              "0                      False  \n",
              "1                      False  \n",
              "2                      False  \n",
              "3                      False  \n",
              "4                      False  \n",
              "5                      False  \n",
              "6                      False  \n",
              "7                      False  \n",
              "8                      False  \n",
              "9                      False  \n",
              "10                     False  \n",
              "11                     False  \n",
              "12                     False  \n",
              "13                     False  \n",
              "14                     False  "
            ],
            "text/html": [
              "\n",
              "  <div id=\"df-382e33b5-9d5b-4edf-b2e7-5a861169ae96\">\n",
              "    <div class=\"colab-df-container\">\n",
              "      <div>\n",
              "<style scoped>\n",
              "    .dataframe tbody tr th:only-of-type {\n",
              "        vertical-align: middle;\n",
              "    }\n",
              "\n",
              "    .dataframe tbody tr th {\n",
              "        vertical-align: top;\n",
              "    }\n",
              "\n",
              "    .dataframe thead th {\n",
              "        text-align: right;\n",
              "    }\n",
              "</style>\n",
              "<table border=\"1\" class=\"dataframe\">\n",
              "  <thead>\n",
              "    <tr style=\"text-align: right;\">\n",
              "      <th></th>\n",
              "      <th>accountNumber</th>\n",
              "      <th>customerId</th>\n",
              "      <th>creditLimit</th>\n",
              "      <th>availableMoney</th>\n",
              "      <th>transactionDateTime</th>\n",
              "      <th>transactionAmount</th>\n",
              "      <th>merchantName</th>\n",
              "      <th>acqCountry</th>\n",
              "      <th>merchantCountryCode</th>\n",
              "      <th>posEntryMode</th>\n",
              "      <th>posConditionCode</th>\n",
              "      <th>merchantCategoryCode</th>\n",
              "      <th>currentExpDate</th>\n",
              "      <th>accountOpenDate</th>\n",
              "      <th>dateOfLastAddressChange</th>\n",
              "      <th>cardCVV</th>\n",
              "      <th>enteredCVV</th>\n",
              "      <th>cardLast4Digits</th>\n",
              "      <th>transactionType</th>\n",
              "      <th>isFraud</th>\n",
              "      <th>echoBuffer</th>\n",
              "      <th>currentBalance</th>\n",
              "      <th>merchantCity</th>\n",
              "      <th>merchantState</th>\n",
              "      <th>merchantZip</th>\n",
              "      <th>cardPresent</th>\n",
              "      <th>posOnPremises</th>\n",
              "      <th>recurringAuthInd</th>\n",
              "      <th>expirationDateKeyInMatch</th>\n",
              "    </tr>\n",
              "  </thead>\n",
              "  <tbody>\n",
              "    <tr>\n",
              "      <th>0</th>\n",
              "      <td>733493772</td>\n",
              "      <td>733493772</td>\n",
              "      <td>5000</td>\n",
              "      <td>5000.00</td>\n",
              "      <td>2016-01-08T19:04:50</td>\n",
              "      <td>111.33</td>\n",
              "      <td>Lyft</td>\n",
              "      <td>US</td>\n",
              "      <td>US</td>\n",
              "      <td>05</td>\n",
              "      <td>01</td>\n",
              "      <td>rideshare</td>\n",
              "      <td>04/2020</td>\n",
              "      <td>2014-08-03</td>\n",
              "      <td>2014-08-03</td>\n",
              "      <td>492</td>\n",
              "      <td>492</td>\n",
              "      <td>9184</td>\n",
              "      <td>PURCHASE</td>\n",
              "      <td>True</td>\n",
              "      <td></td>\n",
              "      <td>0.00</td>\n",
              "      <td></td>\n",
              "      <td></td>\n",
              "      <td></td>\n",
              "      <td>False</td>\n",
              "      <td></td>\n",
              "      <td></td>\n",
              "      <td>False</td>\n",
              "    </tr>\n",
              "    <tr>\n",
              "      <th>1</th>\n",
              "      <td>733493772</td>\n",
              "      <td>733493772</td>\n",
              "      <td>5000</td>\n",
              "      <td>4888.67</td>\n",
              "      <td>2016-01-09T22:32:39</td>\n",
              "      <td>24.75</td>\n",
              "      <td>Uber</td>\n",
              "      <td>US</td>\n",
              "      <td>US</td>\n",
              "      <td>09</td>\n",
              "      <td>01</td>\n",
              "      <td>rideshare</td>\n",
              "      <td>06/2023</td>\n",
              "      <td>2014-08-03</td>\n",
              "      <td>2014-08-03</td>\n",
              "      <td>492</td>\n",
              "      <td>492</td>\n",
              "      <td>9184</td>\n",
              "      <td>PURCHASE</td>\n",
              "      <td>False</td>\n",
              "      <td></td>\n",
              "      <td>111.33</td>\n",
              "      <td></td>\n",
              "      <td></td>\n",
              "      <td></td>\n",
              "      <td>False</td>\n",
              "      <td></td>\n",
              "      <td></td>\n",
              "      <td>False</td>\n",
              "    </tr>\n",
              "    <tr>\n",
              "      <th>2</th>\n",
              "      <td>733493772</td>\n",
              "      <td>733493772</td>\n",
              "      <td>5000</td>\n",
              "      <td>4863.92</td>\n",
              "      <td>2016-01-11T13:36:55</td>\n",
              "      <td>187.40</td>\n",
              "      <td>Lyft</td>\n",
              "      <td>US</td>\n",
              "      <td>US</td>\n",
              "      <td>05</td>\n",
              "      <td>01</td>\n",
              "      <td>rideshare</td>\n",
              "      <td>12/2027</td>\n",
              "      <td>2014-08-03</td>\n",
              "      <td>2014-08-03</td>\n",
              "      <td>492</td>\n",
              "      <td>492</td>\n",
              "      <td>9184</td>\n",
              "      <td>PURCHASE</td>\n",
              "      <td>False</td>\n",
              "      <td></td>\n",
              "      <td>136.08</td>\n",
              "      <td></td>\n",
              "      <td></td>\n",
              "      <td></td>\n",
              "      <td>False</td>\n",
              "      <td></td>\n",
              "      <td></td>\n",
              "      <td>False</td>\n",
              "    </tr>\n",
              "    <tr>\n",
              "      <th>3</th>\n",
              "      <td>733493772</td>\n",
              "      <td>733493772</td>\n",
              "      <td>5000</td>\n",
              "      <td>4676.52</td>\n",
              "      <td>2016-01-11T22:47:46</td>\n",
              "      <td>227.34</td>\n",
              "      <td>Lyft</td>\n",
              "      <td>US</td>\n",
              "      <td>US</td>\n",
              "      <td>02</td>\n",
              "      <td>01</td>\n",
              "      <td>rideshare</td>\n",
              "      <td>09/2029</td>\n",
              "      <td>2014-08-03</td>\n",
              "      <td>2014-08-03</td>\n",
              "      <td>492</td>\n",
              "      <td>492</td>\n",
              "      <td>9184</td>\n",
              "      <td>PURCHASE</td>\n",
              "      <td>True</td>\n",
              "      <td></td>\n",
              "      <td>323.48</td>\n",
              "      <td></td>\n",
              "      <td></td>\n",
              "      <td></td>\n",
              "      <td>False</td>\n",
              "      <td></td>\n",
              "      <td></td>\n",
              "      <td>False</td>\n",
              "    </tr>\n",
              "    <tr>\n",
              "      <th>4</th>\n",
              "      <td>733493772</td>\n",
              "      <td>733493772</td>\n",
              "      <td>5000</td>\n",
              "      <td>4449.18</td>\n",
              "      <td>2016-01-16T01:41:11</td>\n",
              "      <td>0.00</td>\n",
              "      <td>Lyft</td>\n",
              "      <td>US</td>\n",
              "      <td>US</td>\n",
              "      <td>02</td>\n",
              "      <td>01</td>\n",
              "      <td>rideshare</td>\n",
              "      <td>10/2024</td>\n",
              "      <td>2014-08-03</td>\n",
              "      <td>2014-08-03</td>\n",
              "      <td>492</td>\n",
              "      <td>492</td>\n",
              "      <td>9184</td>\n",
              "      <td>ADDRESS_VERIFICATION</td>\n",
              "      <td>False</td>\n",
              "      <td></td>\n",
              "      <td>550.82</td>\n",
              "      <td></td>\n",
              "      <td></td>\n",
              "      <td></td>\n",
              "      <td>False</td>\n",
              "      <td></td>\n",
              "      <td></td>\n",
              "      <td>False</td>\n",
              "    </tr>\n",
              "    <tr>\n",
              "      <th>5</th>\n",
              "      <td>733493772</td>\n",
              "      <td>733493772</td>\n",
              "      <td>5000</td>\n",
              "      <td>4449.18</td>\n",
              "      <td>2016-01-16T21:35:27</td>\n",
              "      <td>9.80</td>\n",
              "      <td>Fresh eCards</td>\n",
              "      <td>US</td>\n",
              "      <td>US</td>\n",
              "      <td>05</td>\n",
              "      <td>01</td>\n",
              "      <td>online_gifts</td>\n",
              "      <td>02/2021</td>\n",
              "      <td>2014-08-03</td>\n",
              "      <td>2014-08-03</td>\n",
              "      <td>492</td>\n",
              "      <td>492</td>\n",
              "      <td>9184</td>\n",
              "      <td>PURCHASE</td>\n",
              "      <td>False</td>\n",
              "      <td></td>\n",
              "      <td>550.82</td>\n",
              "      <td></td>\n",
              "      <td></td>\n",
              "      <td></td>\n",
              "      <td>False</td>\n",
              "      <td></td>\n",
              "      <td></td>\n",
              "      <td>False</td>\n",
              "    </tr>\n",
              "    <tr>\n",
              "      <th>6</th>\n",
              "      <td>733493772</td>\n",
              "      <td>733493772</td>\n",
              "      <td>5000</td>\n",
              "      <td>4439.38</td>\n",
              "      <td>2016-01-24T07:54:01</td>\n",
              "      <td>247.99</td>\n",
              "      <td>Uber</td>\n",
              "      <td></td>\n",
              "      <td>US</td>\n",
              "      <td>05</td>\n",
              "      <td>01</td>\n",
              "      <td>rideshare</td>\n",
              "      <td>01/2026</td>\n",
              "      <td>2014-08-03</td>\n",
              "      <td>2014-08-03</td>\n",
              "      <td>492</td>\n",
              "      <td>492</td>\n",
              "      <td>9184</td>\n",
              "      <td>PURCHASE</td>\n",
              "      <td>False</td>\n",
              "      <td></td>\n",
              "      <td>560.62</td>\n",
              "      <td></td>\n",
              "      <td></td>\n",
              "      <td></td>\n",
              "      <td>False</td>\n",
              "      <td></td>\n",
              "      <td></td>\n",
              "      <td>False</td>\n",
              "    </tr>\n",
              "    <tr>\n",
              "      <th>7</th>\n",
              "      <td>733493772</td>\n",
              "      <td>733493772</td>\n",
              "      <td>5000</td>\n",
              "      <td>4191.39</td>\n",
              "      <td>2016-01-26T05:28:24</td>\n",
              "      <td>0.00</td>\n",
              "      <td>Universe Massage #95463</td>\n",
              "      <td>US</td>\n",
              "      <td>US</td>\n",
              "      <td>05</td>\n",
              "      <td>01</td>\n",
              "      <td>personal care</td>\n",
              "      <td>12/2031</td>\n",
              "      <td>2014-08-03</td>\n",
              "      <td>2014-08-03</td>\n",
              "      <td>492</td>\n",
              "      <td>492</td>\n",
              "      <td>9184</td>\n",
              "      <td>ADDRESS_VERIFICATION</td>\n",
              "      <td>False</td>\n",
              "      <td></td>\n",
              "      <td>808.61</td>\n",
              "      <td></td>\n",
              "      <td></td>\n",
              "      <td></td>\n",
              "      <td>False</td>\n",
              "      <td></td>\n",
              "      <td></td>\n",
              "      <td>False</td>\n",
              "    </tr>\n",
              "    <tr>\n",
              "      <th>8</th>\n",
              "      <td>733493772</td>\n",
              "      <td>733493772</td>\n",
              "      <td>5000</td>\n",
              "      <td>4191.39</td>\n",
              "      <td>2016-01-26T12:18:14</td>\n",
              "      <td>11.54</td>\n",
              "      <td>Universe Massage #70014</td>\n",
              "      <td>US</td>\n",
              "      <td>US</td>\n",
              "      <td>05</td>\n",
              "      <td>01</td>\n",
              "      <td>personal care</td>\n",
              "      <td>04/2024</td>\n",
              "      <td>2014-08-03</td>\n",
              "      <td>2014-08-03</td>\n",
              "      <td>492</td>\n",
              "      <td>492</td>\n",
              "      <td>9184</td>\n",
              "      <td>PURCHASE</td>\n",
              "      <td>False</td>\n",
              "      <td></td>\n",
              "      <td>808.61</td>\n",
              "      <td></td>\n",
              "      <td></td>\n",
              "      <td></td>\n",
              "      <td>True</td>\n",
              "      <td></td>\n",
              "      <td></td>\n",
              "      <td>False</td>\n",
              "    </tr>\n",
              "    <tr>\n",
              "      <th>9</th>\n",
              "      <td>733493772</td>\n",
              "      <td>733493772</td>\n",
              "      <td>5000</td>\n",
              "      <td>4179.85</td>\n",
              "      <td>2016-01-26T12:19:15</td>\n",
              "      <td>11.54</td>\n",
              "      <td>Universe Massage #70014</td>\n",
              "      <td>US</td>\n",
              "      <td>US</td>\n",
              "      <td>05</td>\n",
              "      <td>01</td>\n",
              "      <td>personal care</td>\n",
              "      <td>04/2024</td>\n",
              "      <td>2014-08-03</td>\n",
              "      <td>2014-08-03</td>\n",
              "      <td>492</td>\n",
              "      <td>492</td>\n",
              "      <td>9184</td>\n",
              "      <td>REVERSAL</td>\n",
              "      <td>False</td>\n",
              "      <td></td>\n",
              "      <td>820.15</td>\n",
              "      <td></td>\n",
              "      <td></td>\n",
              "      <td></td>\n",
              "      <td>True</td>\n",
              "      <td></td>\n",
              "      <td></td>\n",
              "      <td>False</td>\n",
              "    </tr>\n",
              "    <tr>\n",
              "      <th>10</th>\n",
              "      <td>733493772</td>\n",
              "      <td>733493772</td>\n",
              "      <td>5000</td>\n",
              "      <td>4191.39</td>\n",
              "      <td>2016-01-29T13:23:35</td>\n",
              "      <td>78.64</td>\n",
              "      <td>Lyft</td>\n",
              "      <td>US</td>\n",
              "      <td>US</td>\n",
              "      <td>05</td>\n",
              "      <td>01</td>\n",
              "      <td>rideshare</td>\n",
              "      <td>07/2025</td>\n",
              "      <td>2014-08-03</td>\n",
              "      <td>2014-08-03</td>\n",
              "      <td>492</td>\n",
              "      <td>492</td>\n",
              "      <td>9184</td>\n",
              "      <td>PURCHASE</td>\n",
              "      <td>False</td>\n",
              "      <td></td>\n",
              "      <td>808.61</td>\n",
              "      <td></td>\n",
              "      <td></td>\n",
              "      <td></td>\n",
              "      <td>False</td>\n",
              "      <td></td>\n",
              "      <td></td>\n",
              "      <td>False</td>\n",
              "    </tr>\n",
              "    <tr>\n",
              "      <th>11</th>\n",
              "      <td>733493772</td>\n",
              "      <td>733493772</td>\n",
              "      <td>5000</td>\n",
              "      <td>4137.75</td>\n",
              "      <td>2016-02-04T23:25:31</td>\n",
              "      <td>260.63</td>\n",
              "      <td>Uber</td>\n",
              "      <td>US</td>\n",
              "      <td>US</td>\n",
              "      <td>05</td>\n",
              "      <td>01</td>\n",
              "      <td>rideshare</td>\n",
              "      <td>09/2030</td>\n",
              "      <td>2014-08-03</td>\n",
              "      <td>2014-08-03</td>\n",
              "      <td>492</td>\n",
              "      <td>492</td>\n",
              "      <td>9184</td>\n",
              "      <td>PURCHASE</td>\n",
              "      <td>False</td>\n",
              "      <td></td>\n",
              "      <td>862.25</td>\n",
              "      <td></td>\n",
              "      <td></td>\n",
              "      <td></td>\n",
              "      <td>False</td>\n",
              "      <td></td>\n",
              "      <td></td>\n",
              "      <td>False</td>\n",
              "    </tr>\n",
              "    <tr>\n",
              "      <th>12</th>\n",
              "      <td>733493772</td>\n",
              "      <td>733493772</td>\n",
              "      <td>5000</td>\n",
              "      <td>3877.12</td>\n",
              "      <td>2016-02-09T06:14:59</td>\n",
              "      <td>3.13</td>\n",
              "      <td>Lyft</td>\n",
              "      <td>US</td>\n",
              "      <td>US</td>\n",
              "      <td>90</td>\n",
              "      <td>01</td>\n",
              "      <td>rideshare</td>\n",
              "      <td>05/2022</td>\n",
              "      <td>2014-08-03</td>\n",
              "      <td>2014-08-03</td>\n",
              "      <td>492</td>\n",
              "      <td>492</td>\n",
              "      <td>9184</td>\n",
              "      <td>PURCHASE</td>\n",
              "      <td>False</td>\n",
              "      <td></td>\n",
              "      <td>1122.88</td>\n",
              "      <td></td>\n",
              "      <td></td>\n",
              "      <td></td>\n",
              "      <td>False</td>\n",
              "      <td></td>\n",
              "      <td></td>\n",
              "      <td>False</td>\n",
              "    </tr>\n",
              "    <tr>\n",
              "      <th>13</th>\n",
              "      <td>733493772</td>\n",
              "      <td>733493772</td>\n",
              "      <td>5000</td>\n",
              "      <td>3873.99</td>\n",
              "      <td>2016-02-09T15:46:51</td>\n",
              "      <td>66.58</td>\n",
              "      <td>Lyft</td>\n",
              "      <td>US</td>\n",
              "      <td>US</td>\n",
              "      <td>02</td>\n",
              "      <td>01</td>\n",
              "      <td>rideshare</td>\n",
              "      <td>05/2026</td>\n",
              "      <td>2014-08-03</td>\n",
              "      <td>2014-08-03</td>\n",
              "      <td>492</td>\n",
              "      <td>492</td>\n",
              "      <td>9184</td>\n",
              "      <td>PURCHASE</td>\n",
              "      <td>False</td>\n",
              "      <td></td>\n",
              "      <td>1126.01</td>\n",
              "      <td></td>\n",
              "      <td></td>\n",
              "      <td></td>\n",
              "      <td>False</td>\n",
              "      <td></td>\n",
              "      <td></td>\n",
              "      <td>False</td>\n",
              "    </tr>\n",
              "    <tr>\n",
              "      <th>14</th>\n",
              "      <td>733493772</td>\n",
              "      <td>733493772</td>\n",
              "      <td>5000</td>\n",
              "      <td>3807.41</td>\n",
              "      <td>2016-02-13T08:19:44</td>\n",
              "      <td>65.77</td>\n",
              "      <td>Lyft</td>\n",
              "      <td>US</td>\n",
              "      <td>US</td>\n",
              "      <td>09</td>\n",
              "      <td>01</td>\n",
              "      <td>rideshare</td>\n",
              "      <td>10/2028</td>\n",
              "      <td>2014-08-03</td>\n",
              "      <td>2014-08-03</td>\n",
              "      <td>492</td>\n",
              "      <td>492</td>\n",
              "      <td>9184</td>\n",
              "      <td>PURCHASE</td>\n",
              "      <td>False</td>\n",
              "      <td></td>\n",
              "      <td>1192.59</td>\n",
              "      <td></td>\n",
              "      <td></td>\n",
              "      <td></td>\n",
              "      <td>False</td>\n",
              "      <td></td>\n",
              "      <td></td>\n",
              "      <td>False</td>\n",
              "    </tr>\n",
              "  </tbody>\n",
              "</table>\n",
              "</div>\n",
              "      <button class=\"colab-df-convert\" onclick=\"convertToInteractive('df-382e33b5-9d5b-4edf-b2e7-5a861169ae96')\"\n",
              "              title=\"Convert this dataframe to an interactive table.\"\n",
              "              style=\"display:none;\">\n",
              "        \n",
              "  <svg xmlns=\"http://www.w3.org/2000/svg\" height=\"24px\"viewBox=\"0 0 24 24\"\n",
              "       width=\"24px\">\n",
              "    <path d=\"M0 0h24v24H0V0z\" fill=\"none\"/>\n",
              "    <path d=\"M18.56 5.44l.94 2.06.94-2.06 2.06-.94-2.06-.94-.94-2.06-.94 2.06-2.06.94zm-11 1L8.5 8.5l.94-2.06 2.06-.94-2.06-.94L8.5 2.5l-.94 2.06-2.06.94zm10 10l.94 2.06.94-2.06 2.06-.94-2.06-.94-.94-2.06-.94 2.06-2.06.94z\"/><path d=\"M17.41 7.96l-1.37-1.37c-.4-.4-.92-.59-1.43-.59-.52 0-1.04.2-1.43.59L10.3 9.45l-7.72 7.72c-.78.78-.78 2.05 0 2.83L4 21.41c.39.39.9.59 1.41.59.51 0 1.02-.2 1.41-.59l7.78-7.78 2.81-2.81c.8-.78.8-2.07 0-2.86zM5.41 20L4 18.59l7.72-7.72 1.47 1.35L5.41 20z\"/>\n",
              "  </svg>\n",
              "      </button>\n",
              "      \n",
              "  <style>\n",
              "    .colab-df-container {\n",
              "      display:flex;\n",
              "      flex-wrap:wrap;\n",
              "      gap: 12px;\n",
              "    }\n",
              "\n",
              "    .colab-df-convert {\n",
              "      background-color: #E8F0FE;\n",
              "      border: none;\n",
              "      border-radius: 50%;\n",
              "      cursor: pointer;\n",
              "      display: none;\n",
              "      fill: #1967D2;\n",
              "      height: 32px;\n",
              "      padding: 0 0 0 0;\n",
              "      width: 32px;\n",
              "    }\n",
              "\n",
              "    .colab-df-convert:hover {\n",
              "      background-color: #E2EBFA;\n",
              "      box-shadow: 0px 1px 2px rgba(60, 64, 67, 0.3), 0px 1px 3px 1px rgba(60, 64, 67, 0.15);\n",
              "      fill: #174EA6;\n",
              "    }\n",
              "\n",
              "    [theme=dark] .colab-df-convert {\n",
              "      background-color: #3B4455;\n",
              "      fill: #D2E3FC;\n",
              "    }\n",
              "\n",
              "    [theme=dark] .colab-df-convert:hover {\n",
              "      background-color: #434B5C;\n",
              "      box-shadow: 0px 1px 3px 1px rgba(0, 0, 0, 0.15);\n",
              "      filter: drop-shadow(0px 1px 2px rgba(0, 0, 0, 0.3));\n",
              "      fill: #FFFFFF;\n",
              "    }\n",
              "  </style>\n",
              "\n",
              "      <script>\n",
              "        const buttonEl =\n",
              "          document.querySelector('#df-382e33b5-9d5b-4edf-b2e7-5a861169ae96 button.colab-df-convert');\n",
              "        buttonEl.style.display =\n",
              "          google.colab.kernel.accessAllowed ? 'block' : 'none';\n",
              "\n",
              "        async function convertToInteractive(key) {\n",
              "          const element = document.querySelector('#df-382e33b5-9d5b-4edf-b2e7-5a861169ae96');\n",
              "          const dataTable =\n",
              "            await google.colab.kernel.invokeFunction('convertToInteractive',\n",
              "                                                     [key], {});\n",
              "          if (!dataTable) return;\n",
              "\n",
              "          const docLinkHtml = 'Like what you see? Visit the ' +\n",
              "            '<a target=\"_blank\" href=https://colab.research.google.com/notebooks/data_table.ipynb>data table notebook</a>'\n",
              "            + ' to learn more about interactive tables.';\n",
              "          element.innerHTML = '';\n",
              "          dataTable['output_type'] = 'display_data';\n",
              "          await google.colab.output.renderOutput(dataTable, element);\n",
              "          const docLink = document.createElement('div');\n",
              "          docLink.innerHTML = docLinkHtml;\n",
              "          element.appendChild(docLink);\n",
              "        }\n",
              "      </script>\n",
              "    </div>\n",
              "  </div>\n",
              "  "
            ]
          },
          "metadata": {},
          "execution_count": 5
        }
      ]
    },
    {
      "cell_type": "code",
      "source": [
        "df.shape"
      ],
      "metadata": {
        "colab": {
          "base_uri": "https://localhost:8080/"
        },
        "id": "fO2E4DbbULHW",
        "outputId": "bd044b4d-eee9-42c6-df43-5f38264581f5"
      },
      "execution_count": null,
      "outputs": [
        {
          "output_type": "execute_result",
          "data": {
            "text/plain": [
              "(641914, 29)"
            ]
          },
          "metadata": {},
          "execution_count": 6
        }
      ]
    },
    {
      "cell_type": "code",
      "source": [
        "# dataset informations\n",
        "df.info()"
      ],
      "metadata": {
        "colab": {
          "base_uri": "https://localhost:8080/"
        },
        "id": "YPfeC2d98r0j",
        "outputId": "8d4f239b-d7e8-4118-b92f-636b4b87a845"
      },
      "execution_count": null,
      "outputs": [
        {
          "output_type": "stream",
          "name": "stdout",
          "text": [
            "<class 'pandas.core.frame.DataFrame'>\n",
            "RangeIndex: 641914 entries, 0 to 641913\n",
            "Data columns (total 29 columns):\n",
            " #   Column                    Non-Null Count   Dtype  \n",
            "---  ------                    --------------   -----  \n",
            " 0   accountNumber             641914 non-null  int64  \n",
            " 1   customerId                641914 non-null  int64  \n",
            " 2   creditLimit               641914 non-null  int64  \n",
            " 3   availableMoney            641914 non-null  float64\n",
            " 4   transactionDateTime       641914 non-null  object \n",
            " 5   transactionAmount         641914 non-null  float64\n",
            " 6   merchantName              641914 non-null  object \n",
            " 7   acqCountry                641914 non-null  object \n",
            " 8   merchantCountryCode       641914 non-null  object \n",
            " 9   posEntryMode              641914 non-null  object \n",
            " 10  posConditionCode          641914 non-null  object \n",
            " 11  merchantCategoryCode      641914 non-null  object \n",
            " 12  currentExpDate            641914 non-null  object \n",
            " 13  accountOpenDate           641914 non-null  object \n",
            " 14  dateOfLastAddressChange   641914 non-null  object \n",
            " 15  cardCVV                   641914 non-null  int64  \n",
            " 16  enteredCVV                641914 non-null  int64  \n",
            " 17  cardLast4Digits           641914 non-null  int64  \n",
            " 18  transactionType           641914 non-null  object \n",
            " 19  isFraud                   641914 non-null  bool   \n",
            " 20  echoBuffer                641914 non-null  object \n",
            " 21  currentBalance            641914 non-null  float64\n",
            " 22  merchantCity              641914 non-null  object \n",
            " 23  merchantState             641914 non-null  object \n",
            " 24  merchantZip               641914 non-null  object \n",
            " 25  cardPresent               641914 non-null  bool   \n",
            " 26  posOnPremises             641914 non-null  object \n",
            " 27  recurringAuthInd          641914 non-null  object \n",
            " 28  expirationDateKeyInMatch  641914 non-null  bool   \n",
            "dtypes: bool(3), float64(3), int64(6), object(17)\n",
            "memory usage: 129.2+ MB\n"
          ]
        }
      ]
    },
    {
      "cell_type": "code",
      "source": [
        "# statistical measures of the data\n",
        "df.describe().T"
      ],
      "metadata": {
        "colab": {
          "base_uri": "https://localhost:8080/",
          "height": 332
        },
        "id": "LTQP9zft8k5Z",
        "outputId": "3ffece24-b3f6-49e1-a6c1-d1736f7418d5"
      },
      "execution_count": null,
      "outputs": [
        {
          "output_type": "execute_result",
          "data": {
            "text/plain": [
              "                      count          mean           std           min  \\\n",
              "accountNumber      641914.0  5.547701e+08  2.546884e+08  1.005471e+08   \n",
              "customerId         641914.0  5.547701e+08  2.546884e+08  1.005471e+08   \n",
              "creditLimit        641914.0  1.069721e+04  1.146036e+04  2.500000e+02   \n",
              "availableMoney     641914.0  6.652829e+03  9.227132e+03 -1.244930e+03   \n",
              "transactionAmount  641914.0  1.351625e+02  1.470533e+02  0.000000e+00   \n",
              "cardCVV            641914.0  5.571999e+02  2.573262e+02  1.000000e+02   \n",
              "enteredCVV         641914.0  5.567752e+02  2.574026e+02  1.000000e+00   \n",
              "cardLast4Digits    641914.0  4.886184e+03  2.859054e+03  0.000000e+00   \n",
              "currentBalance     641914.0  4.044382e+03  5.945510e+03  0.000000e+00   \n",
              "\n",
              "                            25%           50%           75%           max  \n",
              "accountNumber      3.223192e+08  5.438879e+08  7.862277e+08  9.999853e+08  \n",
              "customerId         3.223192e+08  5.438879e+08  7.862277e+08  9.999853e+08  \n",
              "creditLimit        5.000000e+03  7.500000e+03  1.500000e+04  5.000000e+04  \n",
              "availableMoney     1.114970e+03  3.578165e+03  8.169185e+03  5.000000e+04  \n",
              "transactionAmount  3.232000e+01  8.580000e+01  1.890300e+02  1.825250e+03  \n",
              "cardCVV            3.340000e+02  5.810000e+02  7.620000e+02  9.980000e+02  \n",
              "enteredCVV         3.330000e+02  5.800000e+02  7.610000e+02  9.980000e+02  \n",
              "cardLast4Digits    2.364000e+03  4.873000e+03  7.267000e+03  9.998000e+03  \n",
              "currentBalance     5.024425e+02  2.151860e+03  5.005890e+03  4.749650e+04  "
            ],
            "text/html": [
              "\n",
              "  <div id=\"df-3d69250e-154a-442c-b71f-283bb118685e\">\n",
              "    <div class=\"colab-df-container\">\n",
              "      <div>\n",
              "<style scoped>\n",
              "    .dataframe tbody tr th:only-of-type {\n",
              "        vertical-align: middle;\n",
              "    }\n",
              "\n",
              "    .dataframe tbody tr th {\n",
              "        vertical-align: top;\n",
              "    }\n",
              "\n",
              "    .dataframe thead th {\n",
              "        text-align: right;\n",
              "    }\n",
              "</style>\n",
              "<table border=\"1\" class=\"dataframe\">\n",
              "  <thead>\n",
              "    <tr style=\"text-align: right;\">\n",
              "      <th></th>\n",
              "      <th>count</th>\n",
              "      <th>mean</th>\n",
              "      <th>std</th>\n",
              "      <th>min</th>\n",
              "      <th>25%</th>\n",
              "      <th>50%</th>\n",
              "      <th>75%</th>\n",
              "      <th>max</th>\n",
              "    </tr>\n",
              "  </thead>\n",
              "  <tbody>\n",
              "    <tr>\n",
              "      <th>accountNumber</th>\n",
              "      <td>641914.0</td>\n",
              "      <td>5.547701e+08</td>\n",
              "      <td>2.546884e+08</td>\n",
              "      <td>1.005471e+08</td>\n",
              "      <td>3.223192e+08</td>\n",
              "      <td>5.438879e+08</td>\n",
              "      <td>7.862277e+08</td>\n",
              "      <td>9.999853e+08</td>\n",
              "    </tr>\n",
              "    <tr>\n",
              "      <th>customerId</th>\n",
              "      <td>641914.0</td>\n",
              "      <td>5.547701e+08</td>\n",
              "      <td>2.546884e+08</td>\n",
              "      <td>1.005471e+08</td>\n",
              "      <td>3.223192e+08</td>\n",
              "      <td>5.438879e+08</td>\n",
              "      <td>7.862277e+08</td>\n",
              "      <td>9.999853e+08</td>\n",
              "    </tr>\n",
              "    <tr>\n",
              "      <th>creditLimit</th>\n",
              "      <td>641914.0</td>\n",
              "      <td>1.069721e+04</td>\n",
              "      <td>1.146036e+04</td>\n",
              "      <td>2.500000e+02</td>\n",
              "      <td>5.000000e+03</td>\n",
              "      <td>7.500000e+03</td>\n",
              "      <td>1.500000e+04</td>\n",
              "      <td>5.000000e+04</td>\n",
              "    </tr>\n",
              "    <tr>\n",
              "      <th>availableMoney</th>\n",
              "      <td>641914.0</td>\n",
              "      <td>6.652829e+03</td>\n",
              "      <td>9.227132e+03</td>\n",
              "      <td>-1.244930e+03</td>\n",
              "      <td>1.114970e+03</td>\n",
              "      <td>3.578165e+03</td>\n",
              "      <td>8.169185e+03</td>\n",
              "      <td>5.000000e+04</td>\n",
              "    </tr>\n",
              "    <tr>\n",
              "      <th>transactionAmount</th>\n",
              "      <td>641914.0</td>\n",
              "      <td>1.351625e+02</td>\n",
              "      <td>1.470533e+02</td>\n",
              "      <td>0.000000e+00</td>\n",
              "      <td>3.232000e+01</td>\n",
              "      <td>8.580000e+01</td>\n",
              "      <td>1.890300e+02</td>\n",
              "      <td>1.825250e+03</td>\n",
              "    </tr>\n",
              "    <tr>\n",
              "      <th>cardCVV</th>\n",
              "      <td>641914.0</td>\n",
              "      <td>5.571999e+02</td>\n",
              "      <td>2.573262e+02</td>\n",
              "      <td>1.000000e+02</td>\n",
              "      <td>3.340000e+02</td>\n",
              "      <td>5.810000e+02</td>\n",
              "      <td>7.620000e+02</td>\n",
              "      <td>9.980000e+02</td>\n",
              "    </tr>\n",
              "    <tr>\n",
              "      <th>enteredCVV</th>\n",
              "      <td>641914.0</td>\n",
              "      <td>5.567752e+02</td>\n",
              "      <td>2.574026e+02</td>\n",
              "      <td>1.000000e+00</td>\n",
              "      <td>3.330000e+02</td>\n",
              "      <td>5.800000e+02</td>\n",
              "      <td>7.610000e+02</td>\n",
              "      <td>9.980000e+02</td>\n",
              "    </tr>\n",
              "    <tr>\n",
              "      <th>cardLast4Digits</th>\n",
              "      <td>641914.0</td>\n",
              "      <td>4.886184e+03</td>\n",
              "      <td>2.859054e+03</td>\n",
              "      <td>0.000000e+00</td>\n",
              "      <td>2.364000e+03</td>\n",
              "      <td>4.873000e+03</td>\n",
              "      <td>7.267000e+03</td>\n",
              "      <td>9.998000e+03</td>\n",
              "    </tr>\n",
              "    <tr>\n",
              "      <th>currentBalance</th>\n",
              "      <td>641914.0</td>\n",
              "      <td>4.044382e+03</td>\n",
              "      <td>5.945510e+03</td>\n",
              "      <td>0.000000e+00</td>\n",
              "      <td>5.024425e+02</td>\n",
              "      <td>2.151860e+03</td>\n",
              "      <td>5.005890e+03</td>\n",
              "      <td>4.749650e+04</td>\n",
              "    </tr>\n",
              "  </tbody>\n",
              "</table>\n",
              "</div>\n",
              "      <button class=\"colab-df-convert\" onclick=\"convertToInteractive('df-3d69250e-154a-442c-b71f-283bb118685e')\"\n",
              "              title=\"Convert this dataframe to an interactive table.\"\n",
              "              style=\"display:none;\">\n",
              "        \n",
              "  <svg xmlns=\"http://www.w3.org/2000/svg\" height=\"24px\"viewBox=\"0 0 24 24\"\n",
              "       width=\"24px\">\n",
              "    <path d=\"M0 0h24v24H0V0z\" fill=\"none\"/>\n",
              "    <path d=\"M18.56 5.44l.94 2.06.94-2.06 2.06-.94-2.06-.94-.94-2.06-.94 2.06-2.06.94zm-11 1L8.5 8.5l.94-2.06 2.06-.94-2.06-.94L8.5 2.5l-.94 2.06-2.06.94zm10 10l.94 2.06.94-2.06 2.06-.94-2.06-.94-.94-2.06-.94 2.06-2.06.94z\"/><path d=\"M17.41 7.96l-1.37-1.37c-.4-.4-.92-.59-1.43-.59-.52 0-1.04.2-1.43.59L10.3 9.45l-7.72 7.72c-.78.78-.78 2.05 0 2.83L4 21.41c.39.39.9.59 1.41.59.51 0 1.02-.2 1.41-.59l7.78-7.78 2.81-2.81c.8-.78.8-2.07 0-2.86zM5.41 20L4 18.59l7.72-7.72 1.47 1.35L5.41 20z\"/>\n",
              "  </svg>\n",
              "      </button>\n",
              "      \n",
              "  <style>\n",
              "    .colab-df-container {\n",
              "      display:flex;\n",
              "      flex-wrap:wrap;\n",
              "      gap: 12px;\n",
              "    }\n",
              "\n",
              "    .colab-df-convert {\n",
              "      background-color: #E8F0FE;\n",
              "      border: none;\n",
              "      border-radius: 50%;\n",
              "      cursor: pointer;\n",
              "      display: none;\n",
              "      fill: #1967D2;\n",
              "      height: 32px;\n",
              "      padding: 0 0 0 0;\n",
              "      width: 32px;\n",
              "    }\n",
              "\n",
              "    .colab-df-convert:hover {\n",
              "      background-color: #E2EBFA;\n",
              "      box-shadow: 0px 1px 2px rgba(60, 64, 67, 0.3), 0px 1px 3px 1px rgba(60, 64, 67, 0.15);\n",
              "      fill: #174EA6;\n",
              "    }\n",
              "\n",
              "    [theme=dark] .colab-df-convert {\n",
              "      background-color: #3B4455;\n",
              "      fill: #D2E3FC;\n",
              "    }\n",
              "\n",
              "    [theme=dark] .colab-df-convert:hover {\n",
              "      background-color: #434B5C;\n",
              "      box-shadow: 0px 1px 3px 1px rgba(0, 0, 0, 0.15);\n",
              "      filter: drop-shadow(0px 1px 2px rgba(0, 0, 0, 0.3));\n",
              "      fill: #FFFFFF;\n",
              "    }\n",
              "  </style>\n",
              "\n",
              "      <script>\n",
              "        const buttonEl =\n",
              "          document.querySelector('#df-3d69250e-154a-442c-b71f-283bb118685e button.colab-df-convert');\n",
              "        buttonEl.style.display =\n",
              "          google.colab.kernel.accessAllowed ? 'block' : 'none';\n",
              "\n",
              "        async function convertToInteractive(key) {\n",
              "          const element = document.querySelector('#df-3d69250e-154a-442c-b71f-283bb118685e');\n",
              "          const dataTable =\n",
              "            await google.colab.kernel.invokeFunction('convertToInteractive',\n",
              "                                                     [key], {});\n",
              "          if (!dataTable) return;\n",
              "\n",
              "          const docLinkHtml = 'Like what you see? Visit the ' +\n",
              "            '<a target=\"_blank\" href=https://colab.research.google.com/notebooks/data_table.ipynb>data table notebook</a>'\n",
              "            + ' to learn more about interactive tables.';\n",
              "          element.innerHTML = '';\n",
              "          dataTable['output_type'] = 'display_data';\n",
              "          await google.colab.output.renderOutput(dataTable, element);\n",
              "          const docLink = document.createElement('div');\n",
              "          docLink.innerHTML = docLinkHtml;\n",
              "          element.appendChild(docLink);\n",
              "        }\n",
              "      </script>\n",
              "    </div>\n",
              "  </div>\n",
              "  "
            ]
          },
          "metadata": {},
          "execution_count": 8
        }
      ]
    },
    {
      "cell_type": "code",
      "source": [
        "# checking the number of missing values in each column\n",
        "df.isnull().sum()"
      ],
      "metadata": {
        "colab": {
          "base_uri": "https://localhost:8080/"
        },
        "id": "hAj07gPi9CWN",
        "outputId": "05f62d3e-710b-442d-aac4-fcc2296b9282"
      },
      "execution_count": null,
      "outputs": [
        {
          "output_type": "execute_result",
          "data": {
            "text/plain": [
              "accountNumber               0\n",
              "customerId                  0\n",
              "creditLimit                 0\n",
              "availableMoney              0\n",
              "transactionDateTime         0\n",
              "transactionAmount           0\n",
              "merchantName                0\n",
              "acqCountry                  0\n",
              "merchantCountryCode         0\n",
              "posEntryMode                0\n",
              "posConditionCode            0\n",
              "merchantCategoryCode        0\n",
              "currentExpDate              0\n",
              "accountOpenDate             0\n",
              "dateOfLastAddressChange     0\n",
              "cardCVV                     0\n",
              "enteredCVV                  0\n",
              "cardLast4Digits             0\n",
              "transactionType             0\n",
              "isFraud                     0\n",
              "echoBuffer                  0\n",
              "currentBalance              0\n",
              "merchantCity                0\n",
              "merchantState               0\n",
              "merchantZip                 0\n",
              "cardPresent                 0\n",
              "posOnPremises               0\n",
              "recurringAuthInd            0\n",
              "expirationDateKeyInMatch    0\n",
              "dtype: int64"
            ]
          },
          "metadata": {},
          "execution_count": 9
        }
      ]
    },
    {
      "cell_type": "code",
      "source": [
        "df.dtypes"
      ],
      "metadata": {
        "colab": {
          "base_uri": "https://localhost:8080/"
        },
        "id": "HV-OB09Uy3HP",
        "outputId": "c51ed849-7d83-4832-be02-01f1a2bf3cd6"
      },
      "execution_count": null,
      "outputs": [
        {
          "output_type": "execute_result",
          "data": {
            "text/plain": [
              "accountNumber                 int64\n",
              "customerId                    int64\n",
              "creditLimit                   int64\n",
              "availableMoney              float64\n",
              "transactionDateTime          object\n",
              "transactionAmount           float64\n",
              "merchantName                 object\n",
              "acqCountry                   object\n",
              "merchantCountryCode          object\n",
              "posEntryMode                 object\n",
              "posConditionCode             object\n",
              "merchantCategoryCode         object\n",
              "currentExpDate               object\n",
              "accountOpenDate              object\n",
              "dateOfLastAddressChange      object\n",
              "cardCVV                       int64\n",
              "enteredCVV                    int64\n",
              "cardLast4Digits               int64\n",
              "transactionType              object\n",
              "isFraud                        bool\n",
              "echoBuffer                   object\n",
              "currentBalance              float64\n",
              "merchantCity                 object\n",
              "merchantState                object\n",
              "merchantZip                  object\n",
              "cardPresent                    bool\n",
              "posOnPremises                object\n",
              "recurringAuthInd             object\n",
              "expirationDateKeyInMatch       bool\n",
              "dtype: object"
            ]
          },
          "metadata": {},
          "execution_count": 10
        }
      ]
    },
    {
      "cell_type": "code",
      "source": [
        "#drop empty columns\n",
        "df=df.drop(columns=['echoBuffer','merchantCity','merchantState','merchantZip', 'posOnPremises','recurringAuthInd'])\n",
        "df.info()"
      ],
      "metadata": {
        "colab": {
          "base_uri": "https://localhost:8080/"
        },
        "id": "1Rq8t_61Gsn2",
        "outputId": "455316ba-7ae5-4574-8792-626005cd253e"
      },
      "execution_count": null,
      "outputs": [
        {
          "output_type": "stream",
          "name": "stdout",
          "text": [
            "<class 'pandas.core.frame.DataFrame'>\n",
            "RangeIndex: 641914 entries, 0 to 641913\n",
            "Data columns (total 23 columns):\n",
            " #   Column                    Non-Null Count   Dtype  \n",
            "---  ------                    --------------   -----  \n",
            " 0   accountNumber             641914 non-null  int64  \n",
            " 1   customerId                641914 non-null  int64  \n",
            " 2   creditLimit               641914 non-null  int64  \n",
            " 3   availableMoney            641914 non-null  float64\n",
            " 4   transactionDateTime       641914 non-null  object \n",
            " 5   transactionAmount         641914 non-null  float64\n",
            " 6   merchantName              641914 non-null  object \n",
            " 7   acqCountry                641914 non-null  object \n",
            " 8   merchantCountryCode       641914 non-null  object \n",
            " 9   posEntryMode              641914 non-null  object \n",
            " 10  posConditionCode          641914 non-null  object \n",
            " 11  merchantCategoryCode      641914 non-null  object \n",
            " 12  currentExpDate            641914 non-null  object \n",
            " 13  accountOpenDate           641914 non-null  object \n",
            " 14  dateOfLastAddressChange   641914 non-null  object \n",
            " 15  cardCVV                   641914 non-null  int64  \n",
            " 16  enteredCVV                641914 non-null  int64  \n",
            " 17  cardLast4Digits           641914 non-null  int64  \n",
            " 18  transactionType           641914 non-null  object \n",
            " 19  isFraud                   641914 non-null  bool   \n",
            " 20  currentBalance            641914 non-null  float64\n",
            " 21  cardPresent               641914 non-null  bool   \n",
            " 22  expirationDateKeyInMatch  641914 non-null  bool   \n",
            "dtypes: bool(3), float64(3), int64(6), object(11)\n",
            "memory usage: 99.8+ MB\n"
          ]
        }
      ]
    },
    {
      "cell_type": "code",
      "source": [
        "#drop irrelevant columns\n",
        "df=df.drop(columns=['customerId','expirationDateKeyInMatch', 'cardPresent','cardLast4Digits','acqCountry','merchantCountryCode'])\n",
        "df.info()"
      ],
      "metadata": {
        "colab": {
          "base_uri": "https://localhost:8080/"
        },
        "id": "skh9rCBIHKUk",
        "outputId": "4779f954-c075-4169-ea75-6537fd85b2ed"
      },
      "execution_count": null,
      "outputs": [
        {
          "output_type": "stream",
          "name": "stdout",
          "text": [
            "<class 'pandas.core.frame.DataFrame'>\n",
            "RangeIndex: 641914 entries, 0 to 641913\n",
            "Data columns (total 17 columns):\n",
            " #   Column                   Non-Null Count   Dtype  \n",
            "---  ------                   --------------   -----  \n",
            " 0   accountNumber            641914 non-null  int64  \n",
            " 1   creditLimit              641914 non-null  int64  \n",
            " 2   availableMoney           641914 non-null  float64\n",
            " 3   transactionDateTime      641914 non-null  object \n",
            " 4   transactionAmount        641914 non-null  float64\n",
            " 5   merchantName             641914 non-null  object \n",
            " 6   posEntryMode             641914 non-null  object \n",
            " 7   posConditionCode         641914 non-null  object \n",
            " 8   merchantCategoryCode     641914 non-null  object \n",
            " 9   currentExpDate           641914 non-null  object \n",
            " 10  accountOpenDate          641914 non-null  object \n",
            " 11  dateOfLastAddressChange  641914 non-null  object \n",
            " 12  cardCVV                  641914 non-null  int64  \n",
            " 13  enteredCVV               641914 non-null  int64  \n",
            " 14  transactionType          641914 non-null  object \n",
            " 15  isFraud                  641914 non-null  bool   \n",
            " 16  currentBalance           641914 non-null  float64\n",
            "dtypes: bool(1), float64(3), int64(4), object(9)\n",
            "memory usage: 79.0+ MB\n"
          ]
        }
      ]
    },
    {
      "cell_type": "code",
      "source": [
        "#convert to date time\n",
        "df['currentExpDate'] = pd.to_datetime(df['currentExpDate'])\n",
        "df['accountOpenDate'] = pd.to_datetime(df['accountOpenDate'])\n",
        "df['dateOfLastAddressChange'] = pd.to_datetime(df['dateOfLastAddressChange'])\n",
        "df['transactionDateTime'] = pd.to_datetime(df['transactionDateTime'])\n",
        "df.info()"
      ],
      "metadata": {
        "colab": {
          "base_uri": "https://localhost:8080/"
        },
        "id": "a9odw3lJHZzo",
        "outputId": "07a3f79a-b3e0-4e21-c8d3-73dcf6ed68bf"
      },
      "execution_count": null,
      "outputs": [
        {
          "output_type": "stream",
          "name": "stdout",
          "text": [
            "<class 'pandas.core.frame.DataFrame'>\n",
            "RangeIndex: 641914 entries, 0 to 641913\n",
            "Data columns (total 17 columns):\n",
            " #   Column                   Non-Null Count   Dtype         \n",
            "---  ------                   --------------   -----         \n",
            " 0   accountNumber            641914 non-null  int64         \n",
            " 1   creditLimit              641914 non-null  int64         \n",
            " 2   availableMoney           641914 non-null  float64       \n",
            " 3   transactionDateTime      641914 non-null  datetime64[ns]\n",
            " 4   transactionAmount        641914 non-null  float64       \n",
            " 5   merchantName             641914 non-null  object        \n",
            " 6   posEntryMode             641914 non-null  object        \n",
            " 7   posConditionCode         641914 non-null  object        \n",
            " 8   merchantCategoryCode     641914 non-null  object        \n",
            " 9   currentExpDate           641914 non-null  datetime64[ns]\n",
            " 10  accountOpenDate          641914 non-null  datetime64[ns]\n",
            " 11  dateOfLastAddressChange  641914 non-null  datetime64[ns]\n",
            " 12  cardCVV                  641914 non-null  int64         \n",
            " 13  enteredCVV               641914 non-null  int64         \n",
            " 14  transactionType          641914 non-null  object        \n",
            " 15  isFraud                  641914 non-null  bool          \n",
            " 16  currentBalance           641914 non-null  float64       \n",
            "dtypes: bool(1), datetime64[ns](4), float64(3), int64(4), object(5)\n",
            "memory usage: 79.0+ MB\n"
          ]
        }
      ]
    },
    {
      "cell_type": "code",
      "source": [
        "df = df.replace(r'^\\s*$', np.nan, regex=True)"
      ],
      "metadata": {
        "id": "GJutJKnLHlQs"
      },
      "execution_count": null,
      "outputs": []
    },
    {
      "cell_type": "code",
      "source": [
        "df.isnull().sum()"
      ],
      "metadata": {
        "colab": {
          "base_uri": "https://localhost:8080/"
        },
        "id": "NM-Wyif8HorV",
        "outputId": "5d29a1c2-9551-43af-9a11-253121bf9330"
      },
      "execution_count": null,
      "outputs": [
        {
          "output_type": "execute_result",
          "data": {
            "text/plain": [
              "accountNumber                 0\n",
              "creditLimit                   0\n",
              "availableMoney                0\n",
              "transactionDateTime           0\n",
              "transactionAmount             0\n",
              "merchantName                  0\n",
              "posEntryMode               3345\n",
              "posConditionCode            287\n",
              "merchantCategoryCode          0\n",
              "currentExpDate                0\n",
              "accountOpenDate               0\n",
              "dateOfLastAddressChange       0\n",
              "cardCVV                       0\n",
              "enteredCVV                    0\n",
              "transactionType             589\n",
              "isFraud                       0\n",
              "currentBalance                0\n",
              "dtype: int64"
            ]
          },
          "metadata": {},
          "execution_count": 15
        }
      ]
    },
    {
      "cell_type": "code",
      "source": [
        "df['posEntryMode']= df['posEntryMode'].fillna(value=df['posEntryMode'].mode()[0])\n",
        "df['posConditionCode']= df['posConditionCode'].fillna(value=df['posConditionCode'].mode()[0])\n",
        "df['transactionType']= df['transactionType'].fillna(value=df['transactionType'].mode()[0])"
      ],
      "metadata": {
        "id": "WbS-GVhpHyBU"
      },
      "execution_count": null,
      "outputs": []
    },
    {
      "cell_type": "code",
      "source": [
        "df.isnull().sum()"
      ],
      "metadata": {
        "colab": {
          "base_uri": "https://localhost:8080/"
        },
        "id": "Kw98qrTIH8RO",
        "outputId": "10435f5c-66d3-489d-8fdd-f98affc1ee1a"
      },
      "execution_count": null,
      "outputs": [
        {
          "output_type": "execute_result",
          "data": {
            "text/plain": [
              "accountNumber              0\n",
              "creditLimit                0\n",
              "availableMoney             0\n",
              "transactionDateTime        0\n",
              "transactionAmount          0\n",
              "merchantName               0\n",
              "posEntryMode               0\n",
              "posConditionCode           0\n",
              "merchantCategoryCode       0\n",
              "currentExpDate             0\n",
              "accountOpenDate            0\n",
              "dateOfLastAddressChange    0\n",
              "cardCVV                    0\n",
              "enteredCVV                 0\n",
              "transactionType            0\n",
              "isFraud                    0\n",
              "currentBalance             0\n",
              "dtype: int64"
            ]
          },
          "metadata": {},
          "execution_count": 17
        }
      ]
    },
    {
      "cell_type": "markdown",
      "source": [
        "Data Exploratory"
      ],
      "metadata": {
        "id": "WbcKqznZIQ5j"
      }
    },
    {
      "cell_type": "code",
      "source": [
        "# top merchants\n",
        "df['merchantName'].value_counts().head()"
      ],
      "metadata": {
        "colab": {
          "base_uri": "https://localhost:8080/"
        },
        "id": "3LiwN9iqGaYu",
        "outputId": "f1e3856b-e008-4eea-d670-e17976d4018c"
      },
      "execution_count": null,
      "outputs": [
        {
          "output_type": "execute_result",
          "data": {
            "text/plain": [
              "Lyft          25311\n",
              "Uber          25263\n",
              "gap.com       13824\n",
              "apple.com     13607\n",
              "target.com    13601\n",
              "Name: merchantName, dtype: int64"
            ]
          },
          "metadata": {},
          "execution_count": 19
        }
      ]
    },
    {
      "cell_type": "code",
      "source": [
        "# top transaction Style\n",
        "df['transactionType'].value_counts()"
      ],
      "metadata": {
        "colab": {
          "base_uri": "https://localhost:8080/"
        },
        "id": "Qe-yZybkGfJm",
        "outputId": "df91c12c-467e-4485-8d39-06915be6d242"
      },
      "execution_count": null,
      "outputs": [
        {
          "output_type": "execute_result",
          "data": {
            "text/plain": [
              "PURCHASE                609274\n",
              "ADDRESS_VERIFICATION     16478\n",
              "REVERSAL                 16162\n",
              "Name: transactionType, dtype: int64"
            ]
          },
          "metadata": {},
          "execution_count": 20
        }
      ]
    },
    {
      "cell_type": "code",
      "source": [
        "max=df['accountOpenDate'].max()\n",
        "min=df['accountOpenDate'].min()\n",
        "print(f\"latest account open date = {max}\\nthe first account open date = {min}\")"
      ],
      "metadata": {
        "colab": {
          "base_uri": "https://localhost:8080/"
        },
        "id": "THhOMsONGmbr",
        "outputId": "4f9491cb-25e0-45b9-80e3-cc872189f7cf"
      },
      "execution_count": null,
      "outputs": [
        {
          "output_type": "stream",
          "name": "stdout",
          "text": [
            "latest account open date = 2015-12-31 00:00:00\n",
            "the first account open date = 1985-12-25 00:00:00\n"
          ]
        }
      ]
    },
    {
      "cell_type": "code",
      "source": [
        "df['isFraud'].value_counts()"
      ],
      "metadata": {
        "colab": {
          "base_uri": "https://localhost:8080/"
        },
        "id": "jrBlAmb0Ie6c",
        "outputId": "a2eb0409-0c4f-46d7-9943-ba885b82228a"
      },
      "execution_count": null,
      "outputs": [
        {
          "output_type": "execute_result",
          "data": {
            "text/plain": [
              "False    630612\n",
              "True      11302\n",
              "Name: isFraud, dtype: int64"
            ]
          },
          "metadata": {},
          "execution_count": 23
        }
      ]
    },
    {
      "cell_type": "code",
      "source": [
        "sns.countplot(x='isFraud',data=df,palette='hls')\n",
        "plt.suptitle('is fraud/not distribution of Transaction')\n",
        "plt.show()"
      ],
      "metadata": {
        "colab": {
          "base_uri": "https://localhost:8080/",
          "height": 308
        },
        "id": "r558iwc3IsF9",
        "outputId": "91d1374e-085e-495d-9353-9c6f6f22cfa1"
      },
      "execution_count": null,
      "outputs": [
        {
          "output_type": "display_data",
          "data": {
            "text/plain": [
              "<Figure size 432x288 with 1 Axes>"
            ],
            "image/png": "[encoded data removed]"
          },
          "metadata": {
            "needs_background": "light"
          }
        }
      ]
    },
    {
      "cell_type": "markdown",
      "source": [
        "Download Dataframe to csv"
      ],
      "metadata": {
        "id": "yywLZAptkNHr"
      }
    },
    {
      "cell_type": "code",
      "source": [
        "df.to_csv('transaction.csv', index=False,sep=',')"
      ],
      "metadata": {
        "id": "J8dUGAsTi-l1"
      },
      "execution_count": null,
      "outputs": []
    },
    {
      "cell_type": "code",
      "source": [
        "df1=df.copy()\n",
        "df1['isFraud']=df1['isFraud'].map({True: '1', False: '0'})"
      ],
      "metadata": {
        "id": "sVoP3al13LHp"
      },
      "execution_count": null,
      "outputs": []
    },
    {
      "cell_type": "code",
      "source": [
        "df1=df1.drop(columns=['accountNumber','transactionDateTime','merchantName','merchantCategoryCode','currentExpDate','accountOpenDate','dateOfLastAddressChange',\n",
        "                     'cardCVV','enteredCVV'])\n",
        "df1"
      ],
      "metadata": {
        "colab": {
          "base_uri": "https://localhost:8080/",
          "height": 424
        },
        "id": "Y7LiBiXBJExk",
        "outputId": "a3e18600-9af5-4807-8592-456c57bb7573"
      },
      "execution_count": null,
      "outputs": [
        {
          "output_type": "execute_result",
          "data": {
            "text/plain": [
              "        creditLimit  availableMoney  transactionAmount posEntryMode  \\\n",
              "0              5000         5000.00             111.33           05   \n",
              "1              5000         4888.67              24.75           09   \n",
              "2              5000         4863.92             187.40           05   \n",
              "3              5000         4676.52             227.34           02   \n",
              "4              5000         4449.18               0.00           02   \n",
              "...             ...             ...                ...          ...   \n",
              "641909         7500         2574.02               5.37           05   \n",
              "641910         7500         2568.65             223.70           09   \n",
              "641911         7500         2344.95             138.42           02   \n",
              "641912         7500         2206.53              16.31           09   \n",
              "641913         7500         2190.22              32.53           09   \n",
              "\n",
              "       posConditionCode       transactionType isFraud  currentBalance  \n",
              "0                    01              PURCHASE       1            0.00  \n",
              "1                    01              PURCHASE       0          111.33  \n",
              "2                    01              PURCHASE       0          136.08  \n",
              "3                    01              PURCHASE       1          323.48  \n",
              "4                    01  ADDRESS_VERIFICATION       0          550.82  \n",
              "...                 ...                   ...     ...             ...  \n",
              "641909               08              PURCHASE       0         4925.98  \n",
              "641910               01              PURCHASE       0         4931.35  \n",
              "641911               01              PURCHASE       0         5155.05  \n",
              "641912               08              PURCHASE       0         5293.47  \n",
              "641913               01              PURCHASE       0         5309.78  \n",
              "\n",
              "[641914 rows x 8 columns]"
            ],
            "text/html": [
              "\n",
              "  <div id=\"df-959f00eb-49d4-40de-9057-c2a749568f87\">\n",
              "    <div class=\"colab-df-container\">\n",
              "      <div>\n",
              "<style scoped>\n",
              "    .dataframe tbody tr th:only-of-type {\n",
              "        vertical-align: middle;\n",
              "    }\n",
              "\n",
              "    .dataframe tbody tr th {\n",
              "        vertical-align: top;\n",
              "    }\n",
              "\n",
              "    .dataframe thead th {\n",
              "        text-align: right;\n",
              "    }\n",
              "</style>\n",
              "<table border=\"1\" class=\"dataframe\">\n",
              "  <thead>\n",
              "    <tr style=\"text-align: right;\">\n",
              "      <th></th>\n",
              "      <th>creditLimit</th>\n",
              "      <th>availableMoney</th>\n",
              "      <th>transactionAmount</th>\n",
              "      <th>posEntryMode</th>\n",
              "      <th>posConditionCode</th>\n",
              "      <th>transactionType</th>\n",
              "      <th>isFraud</th>\n",
              "      <th>currentBalance</th>\n",
              "    </tr>\n",
              "  </thead>\n",
              "  <tbody>\n",
              "    <tr>\n",
              "      <th>0</th>\n",
              "      <td>5000</td>\n",
              "      <td>5000.00</td>\n",
              "      <td>111.33</td>\n",
              "      <td>05</td>\n",
              "      <td>01</td>\n",
              "      <td>PURCHASE</td>\n",
              "      <td>1</td>\n",
              "      <td>0.00</td>\n",
              "    </tr>\n",
              "    <tr>\n",
              "      <th>1</th>\n",
              "      <td>5000</td>\n",
              "      <td>4888.67</td>\n",
              "      <td>24.75</td>\n",
              "      <td>09</td>\n",
              "      <td>01</td>\n",
              "      <td>PURCHASE</td>\n",
              "      <td>0</td>\n",
              "      <td>111.33</td>\n",
              "    </tr>\n",
              "    <tr>\n",
              "      <th>2</th>\n",
              "      <td>5000</td>\n",
              "      <td>4863.92</td>\n",
              "      <td>187.40</td>\n",
              "      <td>05</td>\n",
              "      <td>01</td>\n",
              "      <td>PURCHASE</td>\n",
              "      <td>0</td>\n",
              "      <td>136.08</td>\n",
              "    </tr>\n",
              "    <tr>\n",
              "      <th>3</th>\n",
              "      <td>5000</td>\n",
              "      <td>4676.52</td>\n",
              "      <td>227.34</td>\n",
              "      <td>02</td>\n",
              "      <td>01</td>\n",
              "      <td>PURCHASE</td>\n",
              "      <td>1</td>\n",
              "      <td>323.48</td>\n",
              "    </tr>\n",
              "    <tr>\n",
              "      <th>4</th>\n",
              "      <td>5000</td>\n",
              "      <td>4449.18</td>\n",
              "      <td>0.00</td>\n",
              "      <td>02</td>\n",
              "      <td>01</td>\n",
              "      <td>ADDRESS_VERIFICATION</td>\n",
              "      <td>0</td>\n",
              "      <td>550.82</td>\n",
              "    </tr>\n",
              "    <tr>\n",
              "      <th>...</th>\n",
              "      <td>...</td>\n",
              "      <td>...</td>\n",
              "      <td>...</td>\n",
              "      <td>...</td>\n",
              "      <td>...</td>\n",
              "      <td>...</td>\n",
              "      <td>...</td>\n",
              "      <td>...</td>\n",
              "    </tr>\n",
              "    <tr>\n",
              "      <th>641909</th>\n",
              "      <td>7500</td>\n",
              "      <td>2574.02</td>\n",
              "      <td>5.37</td>\n",
              "      <td>05</td>\n",
              "      <td>08</td>\n",
              "      <td>PURCHASE</td>\n",
              "      <td>0</td>\n",
              "      <td>4925.98</td>\n",
              "    </tr>\n",
              "    <tr>\n",
              "      <th>641910</th>\n",
              "      <td>7500</td>\n",
              "      <td>2568.65</td>\n",
              "      <td>223.70</td>\n",
              "      <td>09</td>\n",
              "      <td>01</td>\n",
              "      <td>PURCHASE</td>\n",
              "      <td>0</td>\n",
              "      <td>4931.35</td>\n",
              "    </tr>\n",
              "    <tr>\n",
              "      <th>641911</th>\n",
              "      <td>7500</td>\n",
              "      <td>2344.95</td>\n",
              "      <td>138.42</td>\n",
              "      <td>02</td>\n",
              "      <td>01</td>\n",
              "      <td>PURCHASE</td>\n",
              "      <td>0</td>\n",
              "      <td>5155.05</td>\n",
              "    </tr>\n",
              "    <tr>\n",
              "      <th>641912</th>\n",
              "      <td>7500</td>\n",
              "      <td>2206.53</td>\n",
              "      <td>16.31</td>\n",
              "      <td>09</td>\n",
              "      <td>08</td>\n",
              "      <td>PURCHASE</td>\n",
              "      <td>0</td>\n",
              "      <td>5293.47</td>\n",
              "    </tr>\n",
              "    <tr>\n",
              "      <th>641913</th>\n",
              "      <td>7500</td>\n",
              "      <td>2190.22</td>\n",
              "      <td>32.53</td>\n",
              "      <td>09</td>\n",
              "      <td>01</td>\n",
              "      <td>PURCHASE</td>\n",
              "      <td>0</td>\n",
              "      <td>5309.78</td>\n",
              "    </tr>\n",
              "  </tbody>\n",
              "</table>\n",
              "<p>641914 rows × 8 columns</p>\n",
              "</div>\n",
              "      <button class=\"colab-df-convert\" onclick=\"convertToInteractive('df-959f00eb-49d4-40de-9057-c2a749568f87')\"\n",
              "              title=\"Convert this dataframe to an interactive table.\"\n",
              "              style=\"display:none;\">\n",
              "        \n",
              "  <svg xmlns=\"http://www.w3.org/2000/svg\" height=\"24px\"viewBox=\"0 0 24 24\"\n",
              "       width=\"24px\">\n",
              "    <path d=\"M0 0h24v24H0V0z\" fill=\"none\"/>\n",
              "    <path d=\"M18.56 5.44l.94 2.06.94-2.06 2.06-.94-2.06-.94-.94-2.06-.94 2.06-2.06.94zm-11 1L8.5 8.5l.94-2.06 2.06-.94-2.06-.94L8.5 2.5l-.94 2.06-2.06.94zm10 10l.94 2.06.94-2.06 2.06-.94-2.06-.94-.94-2.06-.94 2.06-2.06.94z\"/><path d=\"M17.41 7.96l-1.37-1.37c-.4-.4-.92-.59-1.43-.59-.52 0-1.04.2-1.43.59L10.3 9.45l-7.72 7.72c-.78.78-.78 2.05 0 2.83L4 21.41c.39.39.9.59 1.41.59.51 0 1.02-.2 1.41-.59l7.78-7.78 2.81-2.81c.8-.78.8-2.07 0-2.86zM5.41 20L4 18.59l7.72-7.72 1.47 1.35L5.41 20z\"/>\n",
              "  </svg>\n",
              "      </button>\n",
              "      \n",
              "  <style>\n",
              "    .colab-df-container {\n",
              "      display:flex;\n",
              "      flex-wrap:wrap;\n",
              "      gap: 12px;\n",
              "    }\n",
              "\n",
              "    .colab-df-convert {\n",
              "      background-color: #E8F0FE;\n",
              "      border: none;\n",
              "      border-radius: 50%;\n",
              "      cursor: pointer;\n",
              "      display: none;\n",
              "      fill: #1967D2;\n",
              "      height: 32px;\n",
              "      padding: 0 0 0 0;\n",
              "      width: 32px;\n",
              "    }\n",
              "\n",
              "    .colab-df-convert:hover {\n",
              "      background-color: #E2EBFA;\n",
              "      box-shadow: 0px 1px 2px rgba(60, 64, 67, 0.3), 0px 1px 3px 1px rgba(60, 64, 67, 0.15);\n",
              "      fill: #174EA6;\n",
              "    }\n",
              "\n",
              "    [theme=dark] .colab-df-convert {\n",
              "      background-color: #3B4455;\n",
              "      fill: #D2E3FC;\n",
              "    }\n",
              "\n",
              "    [theme=dark] .colab-df-convert:hover {\n",
              "      background-color: #434B5C;\n",
              "      box-shadow: 0px 1px 3px 1px rgba(0, 0, 0, 0.15);\n",
              "      filter: drop-shadow(0px 1px 2px rgba(0, 0, 0, 0.3));\n",
              "      fill: #FFFFFF;\n",
              "    }\n",
              "  </style>\n",
              "\n",
              "      <script>\n",
              "        const buttonEl =\n",
              "          document.querySelector('#df-959f00eb-49d4-40de-9057-c2a749568f87 button.colab-df-convert');\n",
              "        buttonEl.style.display =\n",
              "          google.colab.kernel.accessAllowed ? 'block' : 'none';\n",
              "\n",
              "        async function convertToInteractive(key) {\n",
              "          const element = document.querySelector('#df-959f00eb-49d4-40de-9057-c2a749568f87');\n",
              "          const dataTable =\n",
              "            await google.colab.kernel.invokeFunction('convertToInteractive',\n",
              "                                                     [key], {});\n",
              "          if (!dataTable) return;\n",
              "\n",
              "          const docLinkHtml = 'Like what you see? Visit the ' +\n",
              "            '<a target=\"_blank\" href=https://colab.research.google.com/notebooks/data_table.ipynb>data table notebook</a>'\n",
              "            + ' to learn more about interactive tables.';\n",
              "          element.innerHTML = '';\n",
              "          dataTable['output_type'] = 'display_data';\n",
              "          await google.colab.output.renderOutput(dataTable, element);\n",
              "          const docLink = document.createElement('div');\n",
              "          docLink.innerHTML = docLinkHtml;\n",
              "          element.appendChild(docLink);\n",
              "        }\n",
              "      </script>\n",
              "    </div>\n",
              "  </div>\n",
              "  "
            ]
          },
          "metadata": {},
          "execution_count": 31
        }
      ]
    },
    {
      "cell_type": "code",
      "source": [
        "df1.dtypes"
      ],
      "metadata": {
        "colab": {
          "base_uri": "https://localhost:8080/"
        },
        "id": "TuHjK93W3Q1a",
        "outputId": "da2708f9-4483-4b54-9c9f-95673fbf67a3"
      },
      "execution_count": null,
      "outputs": [
        {
          "output_type": "execute_result",
          "data": {
            "text/plain": [
              "creditLimit            int64\n",
              "availableMoney       float64\n",
              "transactionAmount    float64\n",
              "posEntryMode          object\n",
              "posConditionCode      object\n",
              "transactionType       object\n",
              "isFraud               object\n",
              "currentBalance       float64\n",
              "dtype: object"
            ]
          },
          "metadata": {},
          "execution_count": 32
        }
      ]
    },
    {
      "cell_type": "code",
      "source": [
        "df1.groupby('isFraud').mean()"
      ],
      "metadata": {
        "colab": {
          "base_uri": "https://localhost:8080/",
          "height": 143
        },
        "id": "mYmkMwSNI9cG",
        "outputId": "cf5fb2f8-3e5a-4656-bae1-3e3aeaabbedb"
      },
      "execution_count": null,
      "outputs": [
        {
          "output_type": "execute_result",
          "data": {
            "text/plain": [
              "          creditLimit  availableMoney  transactionAmount  currentBalance\n",
              "isFraud                                                                 \n",
              "0        10692.060253     6654.531983         133.416128     4037.528270\n",
              "1        10984.582375     6557.784267         232.603744     4426.798107"
            ],
            "text/html": [
              "\n",
              "  <div id=\"df-fca7dd9a-5ebb-4a26-b109-60a60ed14c68\">\n",
              "    <div class=\"colab-df-container\">\n",
              "      <div>\n",
              "<style scoped>\n",
              "    .dataframe tbody tr th:only-of-type {\n",
              "        vertical-align: middle;\n",
              "    }\n",
              "\n",
              "    .dataframe tbody tr th {\n",
              "        vertical-align: top;\n",
              "    }\n",
              "\n",
              "    .dataframe thead th {\n",
              "        text-align: right;\n",
              "    }\n",
              "</style>\n",
              "<table border=\"1\" class=\"dataframe\">\n",
              "  <thead>\n",
              "    <tr style=\"text-align: right;\">\n",
              "      <th></th>\n",
              "      <th>creditLimit</th>\n",
              "      <th>availableMoney</th>\n",
              "      <th>transactionAmount</th>\n",
              "      <th>currentBalance</th>\n",
              "    </tr>\n",
              "    <tr>\n",
              "      <th>isFraud</th>\n",
              "      <th></th>\n",
              "      <th></th>\n",
              "      <th></th>\n",
              "      <th></th>\n",
              "    </tr>\n",
              "  </thead>\n",
              "  <tbody>\n",
              "    <tr>\n",
              "      <th>0</th>\n",
              "      <td>10692.060253</td>\n",
              "      <td>6654.531983</td>\n",
              "      <td>133.416128</td>\n",
              "      <td>4037.528270</td>\n",
              "    </tr>\n",
              "    <tr>\n",
              "      <th>1</th>\n",
              "      <td>10984.582375</td>\n",
              "      <td>6557.784267</td>\n",
              "      <td>232.603744</td>\n",
              "      <td>4426.798107</td>\n",
              "    </tr>\n",
              "  </tbody>\n",
              "</table>\n",
              "</div>\n",
              "      <button class=\"colab-df-convert\" onclick=\"convertToInteractive('df-fca7dd9a-5ebb-4a26-b109-60a60ed14c68')\"\n",
              "              title=\"Convert this dataframe to an interactive table.\"\n",
              "              style=\"display:none;\">\n",
              "        \n",
              "  <svg xmlns=\"http://www.w3.org/2000/svg\" height=\"24px\"viewBox=\"0 0 24 24\"\n",
              "       width=\"24px\">\n",
              "    <path d=\"M0 0h24v24H0V0z\" fill=\"none\"/>\n",
              "    <path d=\"M18.56 5.44l.94 2.06.94-2.06 2.06-.94-2.06-.94-.94-2.06-.94 2.06-2.06.94zm-11 1L8.5 8.5l.94-2.06 2.06-.94-2.06-.94L8.5 2.5l-.94 2.06-2.06.94zm10 10l.94 2.06.94-2.06 2.06-.94-2.06-.94-.94-2.06-.94 2.06-2.06.94z\"/><path d=\"M17.41 7.96l-1.37-1.37c-.4-.4-.92-.59-1.43-.59-.52 0-1.04.2-1.43.59L10.3 9.45l-7.72 7.72c-.78.78-.78 2.05 0 2.83L4 21.41c.39.39.9.59 1.41.59.51 0 1.02-.2 1.41-.59l7.78-7.78 2.81-2.81c.8-.78.8-2.07 0-2.86zM5.41 20L4 18.59l7.72-7.72 1.47 1.35L5.41 20z\"/>\n",
              "  </svg>\n",
              "      </button>\n",
              "      \n",
              "  <style>\n",
              "    .colab-df-container {\n",
              "      display:flex;\n",
              "      flex-wrap:wrap;\n",
              "      gap: 12px;\n",
              "    }\n",
              "\n",
              "    .colab-df-convert {\n",
              "      background-color: #E8F0FE;\n",
              "      border: none;\n",
              "      border-radius: 50%;\n",
              "      cursor: pointer;\n",
              "      display: none;\n",
              "      fill: #1967D2;\n",
              "      height: 32px;\n",
              "      padding: 0 0 0 0;\n",
              "      width: 32px;\n",
              "    }\n",
              "\n",
              "    .colab-df-convert:hover {\n",
              "      background-color: #E2EBFA;\n",
              "      box-shadow: 0px 1px 2px rgba(60, 64, 67, 0.3), 0px 1px 3px 1px rgba(60, 64, 67, 0.15);\n",
              "      fill: #174EA6;\n",
              "    }\n",
              "\n",
              "    [theme=dark] .colab-df-convert {\n",
              "      background-color: #3B4455;\n",
              "      fill: #D2E3FC;\n",
              "    }\n",
              "\n",
              "    [theme=dark] .colab-df-convert:hover {\n",
              "      background-color: #434B5C;\n",
              "      box-shadow: 0px 1px 3px 1px rgba(0, 0, 0, 0.15);\n",
              "      filter: drop-shadow(0px 1px 2px rgba(0, 0, 0, 0.3));\n",
              "      fill: #FFFFFF;\n",
              "    }\n",
              "  </style>\n",
              "\n",
              "      <script>\n",
              "        const buttonEl =\n",
              "          document.querySelector('#df-fca7dd9a-5ebb-4a26-b109-60a60ed14c68 button.colab-df-convert');\n",
              "        buttonEl.style.display =\n",
              "          google.colab.kernel.accessAllowed ? 'block' : 'none';\n",
              "\n",
              "        async function convertToInteractive(key) {\n",
              "          const element = document.querySelector('#df-fca7dd9a-5ebb-4a26-b109-60a60ed14c68');\n",
              "          const dataTable =\n",
              "            await google.colab.kernel.invokeFunction('convertToInteractive',\n",
              "                                                     [key], {});\n",
              "          if (!dataTable) return;\n",
              "\n",
              "          const docLinkHtml = 'Like what you see? Visit the ' +\n",
              "            '<a target=\"_blank\" href=https://colab.research.google.com/notebooks/data_table.ipynb>data table notebook</a>'\n",
              "            + ' to learn more about interactive tables.';\n",
              "          element.innerHTML = '';\n",
              "          dataTable['output_type'] = 'display_data';\n",
              "          await google.colab.output.renderOutput(dataTable, element);\n",
              "          const docLink = document.createElement('div');\n",
              "          docLink.innerHTML = docLinkHtml;\n",
              "          element.appendChild(docLink);\n",
              "        }\n",
              "      </script>\n",
              "    </div>\n",
              "  </div>\n",
              "  "
            ]
          },
          "metadata": {},
          "execution_count": 33
        }
      ]
    },
    {
      "cell_type": "markdown",
      "source": [
        "Relationship Analysis"
      ],
      "metadata": {
        "id": "FhyLQOVbJOlY"
      }
    },
    {
      "cell_type": "code",
      "source": [
        "df2=df1.copy()\n",
        "df2=pd.get_dummies(df1, drop_first=True)"
      ],
      "metadata": {
        "id": "pdW5D5q_eWS1"
      },
      "execution_count": null,
      "outputs": []
    },
    {
      "cell_type": "code",
      "source": [
        "df2.columns"
      ],
      "metadata": {
        "colab": {
          "base_uri": "https://localhost:8080/"
        },
        "id": "60G2V3VMJYAA",
        "outputId": "e9d2b970-21fa-487b-ecab-97217252c272"
      },
      "execution_count": null,
      "outputs": [
        {
          "output_type": "execute_result",
          "data": {
            "text/plain": [
              "Index(['creditLimit', 'availableMoney', 'transactionAmount', 'currentBalance',\n",
              "       'posEntryMode_05', 'posEntryMode_09', 'posEntryMode_80',\n",
              "       'posEntryMode_90', 'posConditionCode_08', 'posConditionCode_99',\n",
              "       'transactionType_PURCHASE', 'transactionType_REVERSAL', 'isFraud_1'],\n",
              "      dtype='object')"
            ]
          },
          "metadata": {},
          "execution_count": 35
        }
      ]
    },
    {
      "cell_type": "code",
      "source": [
        "df2.corr()['isFraud_1'].sort_values()"
      ],
      "metadata": {
        "colab": {
          "base_uri": "https://localhost:8080/"
        },
        "id": "iD5ygCeMJY3V",
        "outputId": "47605555-369f-40cd-ed8b-13fb3557f342"
      },
      "execution_count": null,
      "outputs": [
        {
          "output_type": "execute_result",
          "data": {
            "text/plain": [
              "posEntryMode_05            -0.053637\n",
              "posConditionCode_08        -0.013708\n",
              "posEntryMode_80            -0.003247\n",
              "availableMoney             -0.001379\n",
              "transactionType_REVERSAL    0.000638\n",
              "posEntryMode_90             0.003158\n",
              "creditLimit                 0.003357\n",
              "currentBalance              0.008611\n",
              "transactionType_PURCHASE    0.010497\n",
              "posConditionCode_99         0.014157\n",
              "posEntryMode_09             0.051275\n",
              "transactionAmount           0.088708\n",
              "isFraud_1                   1.000000\n",
              "Name: isFraud_1, dtype: float64"
            ]
          },
          "metadata": {},
          "execution_count": 36
        }
      ]
    },
    {
      "cell_type": "code",
      "source": [
        "df2_corr = df2.corr()['isFraud_1'].abs()\n",
        "to_drop = [column for column in df2.columns if df2_corr[column] < 0.01]\n",
        "to_drop"
      ],
      "metadata": {
        "colab": {
          "base_uri": "https://localhost:8080/"
        },
        "id": "7xZSCYiWJeok",
        "outputId": "5d0e3c72-0551-43e6-eb25-562783b62906"
      },
      "execution_count": null,
      "outputs": [
        {
          "output_type": "execute_result",
          "data": {
            "text/plain": [
              "['creditLimit',\n",
              " 'availableMoney',\n",
              " 'currentBalance',\n",
              " 'posEntryMode_80',\n",
              " 'posEntryMode_90',\n",
              " 'transactionType_REVERSAL']"
            ]
          },
          "metadata": {},
          "execution_count": 37
        }
      ]
    },
    {
      "cell_type": "code",
      "source": [
        "df3 = df2.copy()\n",
        "df3 = df2.drop(to_drop,axis=1)\n",
        "df3"
      ],
      "metadata": {
        "colab": {
          "base_uri": "https://localhost:8080/",
          "height": 424
        },
        "id": "SrTjPasLJghC",
        "outputId": "2de1893d-06de-4936-b383-af02902afe1e"
      },
      "execution_count": null,
      "outputs": [
        {
          "output_type": "execute_result",
          "data": {
            "text/plain": [
              "        transactionAmount  posEntryMode_05  posEntryMode_09  \\\n",
              "0                  111.33                1                0   \n",
              "1                   24.75                0                1   \n",
              "2                  187.40                1                0   \n",
              "3                  227.34                0                0   \n",
              "4                    0.00                0                0   \n",
              "...                   ...              ...              ...   \n",
              "641909               5.37                1                0   \n",
              "641910             223.70                0                1   \n",
              "641911             138.42                0                0   \n",
              "641912              16.31                0                1   \n",
              "641913              32.53                0                1   \n",
              "\n",
              "        posConditionCode_08  posConditionCode_99  transactionType_PURCHASE  \\\n",
              "0                         0                    0                         1   \n",
              "1                         0                    0                         1   \n",
              "2                         0                    0                         1   \n",
              "3                         0                    0                         1   \n",
              "4                         0                    0                         0   \n",
              "...                     ...                  ...                       ...   \n",
              "641909                    1                    0                         1   \n",
              "641910                    0                    0                         1   \n",
              "641911                    0                    0                         1   \n",
              "641912                    1                    0                         1   \n",
              "641913                    0                    0                         1   \n",
              "\n",
              "        isFraud_1  \n",
              "0               1  \n",
              "1               0  \n",
              "2               0  \n",
              "3               1  \n",
              "4               0  \n",
              "...           ...  \n",
              "641909          0  \n",
              "641910          0  \n",
              "641911          0  \n",
              "641912          0  \n",
              "641913          0  \n",
              "\n",
              "[641914 rows x 7 columns]"
            ],
            "text/html": [
              "\n",
              "  <div id=\"df-195634f3-e3f3-4f69-85d5-e9c18ab562c7\">\n",
              "    <div class=\"colab-df-container\">\n",
              "      <div>\n",
              "<style scoped>\n",
              "    .dataframe tbody tr th:only-of-type {\n",
              "        vertical-align: middle;\n",
              "    }\n",
              "\n",
              "    .dataframe tbody tr th {\n",
              "        vertical-align: top;\n",
              "    }\n",
              "\n",
              "    .dataframe thead th {\n",
              "        text-align: right;\n",
              "    }\n",
              "</style>\n",
              "<table border=\"1\" class=\"dataframe\">\n",
              "  <thead>\n",
              "    <tr style=\"text-align: right;\">\n",
              "      <th></th>\n",
              "      <th>transactionAmount</th>\n",
              "      <th>posEntryMode_05</th>\n",
              "      <th>posEntryMode_09</th>\n",
              "      <th>posConditionCode_08</th>\n",
              "      <th>posConditionCode_99</th>\n",
              "      <th>transactionType_PURCHASE</th>\n",
              "      <th>isFraud_1</th>\n",
              "    </tr>\n",
              "  </thead>\n",
              "  <tbody>\n",
              "    <tr>\n",
              "      <th>0</th>\n",
              "      <td>111.33</td>\n",
              "      <td>1</td>\n",
              "      <td>0</td>\n",
              "      <td>0</td>\n",
              "      <td>0</td>\n",
              "      <td>1</td>\n",
              "      <td>1</td>\n",
              "    </tr>\n",
              "    <tr>\n",
              "      <th>1</th>\n",
              "      <td>24.75</td>\n",
              "      <td>0</td>\n",
              "      <td>1</td>\n",
              "      <td>0</td>\n",
              "      <td>0</td>\n",
              "      <td>1</td>\n",
              "      <td>0</td>\n",
              "    </tr>\n",
              "    <tr>\n",
              "      <th>2</th>\n",
              "      <td>187.40</td>\n",
              "      <td>1</td>\n",
              "      <td>0</td>\n",
              "      <td>0</td>\n",
              "      <td>0</td>\n",
              "      <td>1</td>\n",
              "      <td>0</td>\n",
              "    </tr>\n",
              "    <tr>\n",
              "      <th>3</th>\n",
              "      <td>227.34</td>\n",
              "      <td>0</td>\n",
              "      <td>0</td>\n",
              "      <td>0</td>\n",
              "      <td>0</td>\n",
              "      <td>1</td>\n",
              "      <td>1</td>\n",
              "    </tr>\n",
              "    <tr>\n",
              "      <th>4</th>\n",
              "      <td>0.00</td>\n",
              "      <td>0</td>\n",
              "      <td>0</td>\n",
              "      <td>0</td>\n",
              "      <td>0</td>\n",
              "      <td>0</td>\n",
              "      <td>0</td>\n",
              "    </tr>\n",
              "    <tr>\n",
              "      <th>...</th>\n",
              "      <td>...</td>\n",
              "      <td>...</td>\n",
              "      <td>...</td>\n",
              "      <td>...</td>\n",
              "      <td>...</td>\n",
              "      <td>...</td>\n",
              "      <td>...</td>\n",
              "    </tr>\n",
              "    <tr>\n",
              "      <th>641909</th>\n",
              "      <td>5.37</td>\n",
              "      <td>1</td>\n",
              "      <td>0</td>\n",
              "      <td>1</td>\n",
              "      <td>0</td>\n",
              "      <td>1</td>\n",
              "      <td>0</td>\n",
              "    </tr>\n",
              "    <tr>\n",
              "      <th>641910</th>\n",
              "      <td>223.70</td>\n",
              "      <td>0</td>\n",
              "      <td>1</td>\n",
              "      <td>0</td>\n",
              "      <td>0</td>\n",
              "      <td>1</td>\n",
              "      <td>0</td>\n",
              "    </tr>\n",
              "    <tr>\n",
              "      <th>641911</th>\n",
              "      <td>138.42</td>\n",
              "      <td>0</td>\n",
              "      <td>0</td>\n",
              "      <td>0</td>\n",
              "      <td>0</td>\n",
              "      <td>1</td>\n",
              "      <td>0</td>\n",
              "    </tr>\n",
              "    <tr>\n",
              "      <th>641912</th>\n",
              "      <td>16.31</td>\n",
              "      <td>0</td>\n",
              "      <td>1</td>\n",
              "      <td>1</td>\n",
              "      <td>0</td>\n",
              "      <td>1</td>\n",
              "      <td>0</td>\n",
              "    </tr>\n",
              "    <tr>\n",
              "      <th>641913</th>\n",
              "      <td>32.53</td>\n",
              "      <td>0</td>\n",
              "      <td>1</td>\n",
              "      <td>0</td>\n",
              "      <td>0</td>\n",
              "      <td>1</td>\n",
              "      <td>0</td>\n",
              "    </tr>\n",
              "  </tbody>\n",
              "</table>\n",
              "<p>641914 rows × 7 columns</p>\n",
              "</div>\n",
              "      <button class=\"colab-df-convert\" onclick=\"convertToInteractive('df-195634f3-e3f3-4f69-85d5-e9c18ab562c7')\"\n",
              "              title=\"Convert this dataframe to an interactive table.\"\n",
              "              style=\"display:none;\">\n",
              "        \n",
              "  <svg xmlns=\"http://www.w3.org/2000/svg\" height=\"24px\"viewBox=\"0 0 24 24\"\n",
              "       width=\"24px\">\n",
              "    <path d=\"M0 0h24v24H0V0z\" fill=\"none\"/>\n",
              "    <path d=\"M18.56 5.44l.94 2.06.94-2.06 2.06-.94-2.06-.94-.94-2.06-.94 2.06-2.06.94zm-11 1L8.5 8.5l.94-2.06 2.06-.94-2.06-.94L8.5 2.5l-.94 2.06-2.06.94zm10 10l.94 2.06.94-2.06 2.06-.94-2.06-.94-.94-2.06-.94 2.06-2.06.94z\"/><path d=\"M17.41 7.96l-1.37-1.37c-.4-.4-.92-.59-1.43-.59-.52 0-1.04.2-1.43.59L10.3 9.45l-7.72 7.72c-.78.78-.78 2.05 0 2.83L4 21.41c.39.39.9.59 1.41.59.51 0 1.02-.2 1.41-.59l7.78-7.78 2.81-2.81c.8-.78.8-2.07 0-2.86zM5.41 20L4 18.59l7.72-7.72 1.47 1.35L5.41 20z\"/>\n",
              "  </svg>\n",
              "      </button>\n",
              "      \n",
              "  <style>\n",
              "    .colab-df-container {\n",
              "      display:flex;\n",
              "      flex-wrap:wrap;\n",
              "      gap: 12px;\n",
              "    }\n",
              "\n",
              "    .colab-df-convert {\n",
              "      background-color: #E8F0FE;\n",
              "      border: none;\n",
              "      border-radius: 50%;\n",
              "      cursor: pointer;\n",
              "      display: none;\n",
              "      fill: #1967D2;\n",
              "      height: 32px;\n",
              "      padding: 0 0 0 0;\n",
              "      width: 32px;\n",
              "    }\n",
              "\n",
              "    .colab-df-convert:hover {\n",
              "      background-color: #E2EBFA;\n",
              "      box-shadow: 0px 1px 2px rgba(60, 64, 67, 0.3), 0px 1px 3px 1px rgba(60, 64, 67, 0.15);\n",
              "      fill: #174EA6;\n",
              "    }\n",
              "\n",
              "    [theme=dark] .colab-df-convert {\n",
              "      background-color: #3B4455;\n",
              "      fill: #D2E3FC;\n",
              "    }\n",
              "\n",
              "    [theme=dark] .colab-df-convert:hover {\n",
              "      background-color: #434B5C;\n",
              "      box-shadow: 0px 1px 3px 1px rgba(0, 0, 0, 0.15);\n",
              "      filter: drop-shadow(0px 1px 2px rgba(0, 0, 0, 0.3));\n",
              "      fill: #FFFFFF;\n",
              "    }\n",
              "  </style>\n",
              "\n",
              "      <script>\n",
              "        const buttonEl =\n",
              "          document.querySelector('#df-195634f3-e3f3-4f69-85d5-e9c18ab562c7 button.colab-df-convert');\n",
              "        buttonEl.style.display =\n",
              "          google.colab.kernel.accessAllowed ? 'block' : 'none';\n",
              "\n",
              "        async function convertToInteractive(key) {\n",
              "          const element = document.querySelector('#df-195634f3-e3f3-4f69-85d5-e9c18ab562c7');\n",
              "          const dataTable =\n",
              "            await google.colab.kernel.invokeFunction('convertToInteractive',\n",
              "                                                     [key], {});\n",
              "          if (!dataTable) return;\n",
              "\n",
              "          const docLinkHtml = 'Like what you see? Visit the ' +\n",
              "            '<a target=\"_blank\" href=https://colab.research.google.com/notebooks/data_table.ipynb>data table notebook</a>'\n",
              "            + ' to learn more about interactive tables.';\n",
              "          element.innerHTML = '';\n",
              "          dataTable['output_type'] = 'display_data';\n",
              "          await google.colab.output.renderOutput(dataTable, element);\n",
              "          const docLink = document.createElement('div');\n",
              "          docLink.innerHTML = docLinkHtml;\n",
              "          element.appendChild(docLink);\n",
              "        }\n",
              "      </script>\n",
              "    </div>\n",
              "  </div>\n",
              "  "
            ]
          },
          "metadata": {},
          "execution_count": 38
        }
      ]
    },
    {
      "cell_type": "code",
      "source": [
        "corrmat = df3.corr(method='pearson')\n",
        "f, ax = plt.subplots(figsize=(12,12))\n",
        "sns.heatmap(corrmat , square=True, cmap='RdYlBu');"
      ],
      "metadata": {
        "colab": {
          "base_uri": "https://localhost:8080/",
          "height": 774
        },
        "id": "Wm-hUn6IJsW9",
        "outputId": "5c425fa0-58b8-4286-a699-b2e55f346d2b"
      },
      "execution_count": null,
      "outputs": [
        {
          "output_type": "display_data",
          "data": {
            "text/plain": [
              "<Figure size 864x864 with 2 Axes>"
            ],
            "image/png": "[encoded data removed]"
          },
          "metadata": {
            "needs_background": "light"
          }
        }
      ]
    },
    {
      "cell_type": "code",
      "source": [
        "# separating the data for analysis\n",
        "legit = df3[df3.isFraud_1 == 0]\n",
        "fraud = df3[df3.isFraud_1 == 1]"
      ],
      "metadata": {
        "id": "gCPWWqVaJycL"
      },
      "execution_count": null,
      "outputs": []
    },
    {
      "cell_type": "code",
      "source": [
        "print(legit.shape)\n",
        "print(fraud.shape)"
      ],
      "metadata": {
        "colab": {
          "base_uri": "https://localhost:8080/"
        },
        "id": "dHY9YLMnJ2A9",
        "outputId": "bf26651d-b303-4a2c-d30f-e3e7c1cfe848"
      },
      "execution_count": null,
      "outputs": [
        {
          "output_type": "stream",
          "name": "stdout",
          "text": [
            "(630612, 7)\n",
            "(11302, 7)\n"
          ]
        }
      ]
    },
    {
      "cell_type": "code",
      "source": [
        "# statistical measures of the data\n",
        "legit.transactionAmount.describe()"
      ],
      "metadata": {
        "id": "ri3UDFrvlXqP",
        "colab": {
          "base_uri": "https://localhost:8080/"
        },
        "outputId": "28e5a8ae-4044-436f-e05a-ff4c0eabb9bd"
      },
      "execution_count": null,
      "outputs": [
        {
          "output_type": "execute_result",
          "data": {
            "text/plain": [
              "count    630612.000000\n",
              "mean        133.416128\n",
              "std         145.583066\n",
              "min           0.000000\n",
              "25%          31.810000\n",
              "50%          84.340000\n",
              "75%         186.440000\n",
              "max        1825.250000\n",
              "Name: transactionAmount, dtype: float64"
            ]
          },
          "metadata": {},
          "execution_count": 42
        }
      ]
    },
    {
      "cell_type": "code",
      "source": [
        "fraud.transactionAmount.describe()"
      ],
      "metadata": {
        "id": "2IcZsb7QkAoc",
        "colab": {
          "base_uri": "https://localhost:8080/"
        },
        "outputId": "c5ea97da-2f32-48c8-a9a7-59ed055bb91a"
      },
      "execution_count": null,
      "outputs": [
        {
          "output_type": "execute_result",
          "data": {
            "text/plain": [
              "count    11302.000000\n",
              "mean       232.603744\n",
              "std        189.654934\n",
              "min          0.000000\n",
              "25%         91.475000\n",
              "50%        185.215000\n",
              "75%        324.817500\n",
              "max       1743.510000\n",
              "Name: transactionAmount, dtype: float64"
            ]
          },
          "metadata": {},
          "execution_count": 43
        }
      ]
    },
    {
      "cell_type": "code",
      "source": [
        "# compare the values for both transactions\n",
        "df3.groupby('isFraud_1').mean()"
      ],
      "metadata": {
        "id": "Uy99y4QalGyo",
        "colab": {
          "base_uri": "https://localhost:8080/",
          "height": 143
        },
        "outputId": "ad8c88b1-3cc6-40cd-dffa-026c5eb6ea36"
      },
      "execution_count": null,
      "outputs": [
        {
          "output_type": "execute_result",
          "data": {
            "text/plain": [
              "           transactionAmount  posEntryMode_05  posEntryMode_09  \\\n",
              "isFraud_1                                                        \n",
              "0                 133.416128         0.406941         0.297815   \n",
              "1                 232.603744         0.206866         0.476641   \n",
              "\n",
              "           posConditionCode_08  posConditionCode_99  transactionType_PURCHASE  \n",
              "isFraud_1                                                                      \n",
              "0                     0.190007             0.009128                  0.948843  \n",
              "1                     0.149177             0.019466                  0.966378  "
            ],
            "text/html": [
              "\n",
              "  <div id=\"df-13f0a328-5136-4470-89e2-26d5426bd8d3\">\n",
              "    <div class=\"colab-df-container\">\n",
              "      <div>\n",
              "<style scoped>\n",
              "    .dataframe tbody tr th:only-of-type {\n",
              "        vertical-align: middle;\n",
              "    }\n",
              "\n",
              "    .dataframe tbody tr th {\n",
              "        vertical-align: top;\n",
              "    }\n",
              "\n",
              "    .dataframe thead th {\n",
              "        text-align: right;\n",
              "    }\n",
              "</style>\n",
              "<table border=\"1\" class=\"dataframe\">\n",
              "  <thead>\n",
              "    <tr style=\"text-align: right;\">\n",
              "      <th></th>\n",
              "      <th>transactionAmount</th>\n",
              "      <th>posEntryMode_05</th>\n",
              "      <th>posEntryMode_09</th>\n",
              "      <th>posConditionCode_08</th>\n",
              "      <th>posConditionCode_99</th>\n",
              "      <th>transactionType_PURCHASE</th>\n",
              "    </tr>\n",
              "    <tr>\n",
              "      <th>isFraud_1</th>\n",
              "      <th></th>\n",
              "      <th></th>\n",
              "      <th></th>\n",
              "      <th></th>\n",
              "      <th></th>\n",
              "      <th></th>\n",
              "    </tr>\n",
              "  </thead>\n",
              "  <tbody>\n",
              "    <tr>\n",
              "      <th>0</th>\n",
              "      <td>133.416128</td>\n",
              "      <td>0.406941</td>\n",
              "      <td>0.297815</td>\n",
              "      <td>0.190007</td>\n",
              "      <td>0.009128</td>\n",
              "      <td>0.948843</td>\n",
              "    </tr>\n",
              "    <tr>\n",
              "      <th>1</th>\n",
              "      <td>232.603744</td>\n",
              "      <td>0.206866</td>\n",
              "      <td>0.476641</td>\n",
              "      <td>0.149177</td>\n",
              "      <td>0.019466</td>\n",
              "      <td>0.966378</td>\n",
              "    </tr>\n",
              "  </tbody>\n",
              "</table>\n",
              "</div>\n",
              "      <button class=\"colab-df-convert\" onclick=\"convertToInteractive('df-13f0a328-5136-4470-89e2-26d5426bd8d3')\"\n",
              "              title=\"Convert this dataframe to an interactive table.\"\n",
              "              style=\"display:none;\">\n",
              "        \n",
              "  <svg xmlns=\"http://www.w3.org/2000/svg\" height=\"24px\"viewBox=\"0 0 24 24\"\n",
              "       width=\"24px\">\n",
              "    <path d=\"M0 0h24v24H0V0z\" fill=\"none\"/>\n",
              "    <path d=\"M18.56 5.44l.94 2.06.94-2.06 2.06-.94-2.06-.94-.94-2.06-.94 2.06-2.06.94zm-11 1L8.5 8.5l.94-2.06 2.06-.94-2.06-.94L8.5 2.5l-.94 2.06-2.06.94zm10 10l.94 2.06.94-2.06 2.06-.94-2.06-.94-.94-2.06-.94 2.06-2.06.94z\"/><path d=\"M17.41 7.96l-1.37-1.37c-.4-.4-.92-.59-1.43-.59-.52 0-1.04.2-1.43.59L10.3 9.45l-7.72 7.72c-.78.78-.78 2.05 0 2.83L4 21.41c.39.39.9.59 1.41.59.51 0 1.02-.2 1.41-.59l7.78-7.78 2.81-2.81c.8-.78.8-2.07 0-2.86zM5.41 20L4 18.59l7.72-7.72 1.47 1.35L5.41 20z\"/>\n",
              "  </svg>\n",
              "      </button>\n",
              "      \n",
              "  <style>\n",
              "    .colab-df-container {\n",
              "      display:flex;\n",
              "      flex-wrap:wrap;\n",
              "      gap: 12px;\n",
              "    }\n",
              "\n",
              "    .colab-df-convert {\n",
              "      background-color: #E8F0FE;\n",
              "      border: none;\n",
              "      border-radius: 50%;\n",
              "      cursor: pointer;\n",
              "      display: none;\n",
              "      fill: #1967D2;\n",
              "      height: 32px;\n",
              "      padding: 0 0 0 0;\n",
              "      width: 32px;\n",
              "    }\n",
              "\n",
              "    .colab-df-convert:hover {\n",
              "      background-color: #E2EBFA;\n",
              "      box-shadow: 0px 1px 2px rgba(60, 64, 67, 0.3), 0px 1px 3px 1px rgba(60, 64, 67, 0.15);\n",
              "      fill: #174EA6;\n",
              "    }\n",
              "\n",
              "    [theme=dark] .colab-df-convert {\n",
              "      background-color: #3B4455;\n",
              "      fill: #D2E3FC;\n",
              "    }\n",
              "\n",
              "    [theme=dark] .colab-df-convert:hover {\n",
              "      background-color: #434B5C;\n",
              "      box-shadow: 0px 1px 3px 1px rgba(0, 0, 0, 0.15);\n",
              "      filter: drop-shadow(0px 1px 2px rgba(0, 0, 0, 0.3));\n",
              "      fill: #FFFFFF;\n",
              "    }\n",
              "  </style>\n",
              "\n",
              "      <script>\n",
              "        const buttonEl =\n",
              "          document.querySelector('#df-13f0a328-5136-4470-89e2-26d5426bd8d3 button.colab-df-convert');\n",
              "        buttonEl.style.display =\n",
              "          google.colab.kernel.accessAllowed ? 'block' : 'none';\n",
              "\n",
              "        async function convertToInteractive(key) {\n",
              "          const element = document.querySelector('#df-13f0a328-5136-4470-89e2-26d5426bd8d3');\n",
              "          const dataTable =\n",
              "            await google.colab.kernel.invokeFunction('convertToInteractive',\n",
              "                                                     [key], {});\n",
              "          if (!dataTable) return;\n",
              "\n",
              "          const docLinkHtml = 'Like what you see? Visit the ' +\n",
              "            '<a target=\"_blank\" href=https://colab.research.google.com/notebooks/data_table.ipynb>data table notebook</a>'\n",
              "            + ' to learn more about interactive tables.';\n",
              "          element.innerHTML = '';\n",
              "          dataTable['output_type'] = 'display_data';\n",
              "          await google.colab.output.renderOutput(dataTable, element);\n",
              "          const docLink = document.createElement('div');\n",
              "          docLink.innerHTML = docLinkHtml;\n",
              "          element.appendChild(docLink);\n",
              "        }\n",
              "      </script>\n",
              "    </div>\n",
              "  </div>\n",
              "  "
            ]
          },
          "metadata": {},
          "execution_count": 44
        }
      ]
    },
    {
      "cell_type": "code",
      "source": [
        "# Define X and y\n",
        "X = df3.drop(columns='isFraud_1', axis=1)\n",
        "y = df3[['isFraud_1']]"
      ],
      "metadata": {
        "id": "6V1mqwQjwPjC"
      },
      "execution_count": null,
      "outputs": []
    },
    {
      "cell_type": "code",
      "source": [
        "# split into 70:30 ratio\n",
        "X_train, X_test, y_train, y_test = train_test_split(X, y, test_size=0.3, random_state=0)"
      ],
      "metadata": {
        "id": "fNeAcGwAKIrf"
      },
      "execution_count": null,
      "outputs": []
    },
    {
      "cell_type": "code",
      "source": [
        "(X_train.shape, X_test.shape, y_train.shape, y_test.shape)"
      ],
      "metadata": {
        "colab": {
          "base_uri": "https://localhost:8080/"
        },
        "id": "xdIVMis4KKBZ",
        "outputId": "18005c57-0217-4f6f-c40c-9972564424d8"
      },
      "execution_count": null,
      "outputs": [
        {
          "output_type": "execute_result",
          "data": {
            "text/plain": [
              "((449339, 6), (192575, 6), (449339, 1), (192575, 1))"
            ]
          },
          "metadata": {},
          "execution_count": 47
        }
      ]
    },
    {
      "cell_type": "code",
      "source": [
        "# building the model and fitting the data\n",
        "log_reg = sm.Logit(y.astype(float), X.astype(float)).fit()"
      ],
      "metadata": {
        "id": "jZ0J8Gi1zxU5",
        "colab": {
          "base_uri": "https://localhost:8080/"
        },
        "outputId": "10a068ab-48bf-4516-f008-25a0a923b193"
      },
      "execution_count": null,
      "outputs": [
        {
          "output_type": "stream",
          "name": "stdout",
          "text": [
            "Optimization terminated successfully.\n",
            "         Current function value: 0.103237\n",
            "         Iterations 9\n"
          ]
        }
      ]
    },
    {
      "cell_type": "code",
      "source": [
        "print(log_reg.summary())"
      ],
      "metadata": {
        "id": "eNwFbqBWwcbg",
        "colab": {
          "base_uri": "https://localhost:8080/"
        },
        "outputId": "12d687bf-c6e4-4d89-e45f-820245f29d02"
      },
      "execution_count": null,
      "outputs": [
        {
          "output_type": "stream",
          "name": "stdout",
          "text": [
            "                           Logit Regression Results                           \n",
            "==============================================================================\n",
            "Dep. Variable:              isFraud_1   No. Observations:               641914\n",
            "Model:                          Logit   Df Residuals:                   641908\n",
            "Method:                           MLE   Df Model:                            5\n",
            "Date:                Tue, 12 Jul 2022   Pseudo R-squ.:                 -0.1656\n",
            "Time:                        16:08:10   Log-Likelihood:                -66269.\n",
            "converged:                       True   LL-Null:                       -56856.\n",
            "Covariance Type:            nonrobust   LLR p-value:                     1.000\n",
            "============================================================================================\n",
            "                               coef    std err          z      P>|z|      [0.025      0.975]\n",
            "--------------------------------------------------------------------------------------------\n",
            "transactionAmount            0.0014   4.66e-05     30.830      0.000       0.001       0.002\n",
            "posEntryMode_05             -2.2250      0.022   -100.316      0.000      -2.269      -2.182\n",
            "posEntryMode_09             -0.9785      0.016    -60.002      0.000      -1.010      -0.947\n",
            "posConditionCode_08         -1.0528      0.027    -39.551      0.000      -1.105      -1.001\n",
            "posConditionCode_99          0.0923      0.076      1.220      0.223      -0.056       0.241\n",
            "transactionType_PURCHASE    -3.2879      0.013   -248.948      0.000      -3.314      -3.262\n",
            "============================================================================================\n"
          ]
        }
      ]
    },
    {
      "cell_type": "code",
      "source": [
        "yhat = log_reg.predict(X_test)\n",
        "prediction = list(map(round, yhat))\n",
        "\n",
        "from sklearn.metrics import (confusion_matrix,accuracy_score)\n",
        "\n",
        "# confusion matrix\n",
        "cm = confusion_matrix(y_test, prediction)\n",
        "cm = pd.DataFrame(data=cm, columns=['Actual Positive:1', 'Actual Negative:0'], \n",
        "                                 index=['Predict Positive:1', 'Predict Negative:0'])\n",
        "sns.heatmap(cm, annot=True, fmt='d', cmap='YlGnBu')\n",
        "\n",
        "# accuracy score of the model\n",
        "print('Test accuracy = ', accuracy_score(y_test, prediction))"
      ],
      "metadata": {
        "id": "_oDCYSPBf2T2",
        "colab": {
          "base_uri": "https://localhost:8080/",
          "height": 282
        },
        "outputId": "60c1869e-9e21-4d67-ec81-e428d0d17397"
      },
      "execution_count": null,
      "outputs": [
        {
          "output_type": "stream",
          "name": "stdout",
          "text": [
            "Test accuracy =  0.9764455406984291\n"
          ]
        },
        {
          "output_type": "display_data",
          "data": {
            "text/plain": [
              "<Figure size 432x288 with 2 Axes>"
            ],
            "image/png": "[encoded data removed]"
          },
          "metadata": {
            "needs_background": "light"
          }
        }
      ]
    },
    {
      "cell_type": "code",
      "source": [
        "from sklearn.metrics import classification_report\n",
        "print(classification_report(y_test, prediction))"
      ],
      "metadata": {
        "colab": {
          "base_uri": "https://localhost:8080/"
        },
        "id": "ju0z1VjXKaTm",
        "outputId": "2eac8599-fe05-4f2e-9891-7d7ee36db8a5"
      },
      "execution_count": null,
      "outputs": [
        {
          "output_type": "stream",
          "name": "stdout",
          "text": [
            "              precision    recall  f1-score   support\n",
            "\n",
            "           0       0.98      0.99      0.99    189148\n",
            "           1       0.02      0.01      0.01      3427\n",
            "\n",
            "    accuracy                           0.98    192575\n",
            "   macro avg       0.50      0.50      0.50    192575\n",
            "weighted avg       0.97      0.98      0.97    192575\n",
            "\n"
          ]
        }
      ]
    },
    {
      "cell_type": "code",
      "source": [
        "to_drop = ['posConditionCode_99']\n",
        "X_test = X_test.drop(to_drop,axis=1)\n",
        "X_train = X_train.drop(to_drop,axis=1)"
      ],
      "metadata": {
        "id": "5yVmcSfoKeA3"
      },
      "execution_count": null,
      "outputs": []
    },
    {
      "cell_type": "code",
      "source": [
        "# building the model and fitting the data\n",
        "log_reg = sm.Logit(y_train.astype(float), X_train.astype(float)).fit()"
      ],
      "metadata": {
        "colab": {
          "base_uri": "https://localhost:8080/"
        },
        "id": "lLNVbMPuKfXj",
        "outputId": "32251e41-68ae-406a-dafd-bbc4fdd1531d"
      },
      "execution_count": null,
      "outputs": [
        {
          "output_type": "stream",
          "name": "stdout",
          "text": [
            "Optimization terminated successfully.\n",
            "         Current function value: 0.102899\n",
            "         Iterations 9\n"
          ]
        }
      ]
    },
    {
      "cell_type": "code",
      "source": [
        "print(log_reg.summary())"
      ],
      "metadata": {
        "colab": {
          "base_uri": "https://localhost:8080/"
        },
        "id": "3N5qlYBFZEP4",
        "outputId": "ee59b153-c3ec-46ec-e818-18965a3fef7d"
      },
      "execution_count": null,
      "outputs": [
        {
          "output_type": "stream",
          "name": "stdout",
          "text": [
            "                           Logit Regression Results                           \n",
            "==============================================================================\n",
            "Dep. Variable:              isFraud_1   No. Observations:               449339\n",
            "Model:                          Logit   Df Residuals:                   449334\n",
            "Method:                           MLE   Df Model:                            4\n",
            "Date:                Tue, 12 Jul 2022   Pseudo R-squ.:                 -0.1660\n",
            "Time:                        16:09:37   Log-Likelihood:                -46237.\n",
            "converged:                       True   LL-Null:                       -39653.\n",
            "Covariance Type:            nonrobust   LLR p-value:                     1.000\n",
            "============================================================================================\n",
            "                               coef    std err          z      P>|z|      [0.025      0.975]\n",
            "--------------------------------------------------------------------------------------------\n",
            "transactionAmount            0.0014   5.63e-05     24.518      0.000       0.001       0.001\n",
            "posEntryMode_05             -2.2252      0.027    -83.545      0.000      -2.277      -2.173\n",
            "posEntryMode_09             -0.9677      0.019    -49.686      0.000      -1.006      -0.930\n",
            "posConditionCode_08         -1.0605      0.032    -33.261      0.000      -1.123      -0.998\n",
            "transactionType_PURCHASE    -3.2848      0.016   -207.928      0.000      -3.316      -3.254\n",
            "============================================================================================\n"
          ]
        }
      ]
    },
    {
      "cell_type": "markdown",
      "source": [
        "Resampling Data"
      ],
      "metadata": {
        "id": "4Q71ExoEKr1c"
      }
    },
    {
      "cell_type": "code",
      "source": [
        "from imblearn.over_sampling import SMOTE\n",
        "from imblearn.over_sampling import BorderlineSMOTE\n",
        "from imblearn.pipeline import Pipeline \n",
        "from imblearn.over_sampling import RandomOverSampler"
      ],
      "metadata": {
        "id": "_fkL7Vq7KpDU"
      },
      "execution_count": null,
      "outputs": []
    },
    {
      "cell_type": "code",
      "source": [
        "sm = SMOTE(random_state=2)\n",
        "X_train, X_test, y_train, y_test = train_test_split(X, y, test_size=0.3, random_state=0)\n",
        "columns = X_train.columns"
      ],
      "metadata": {
        "id": "JFUuwQZGK3jw"
      },
      "execution_count": null,
      "outputs": []
    },
    {
      "cell_type": "code",
      "source": [
        "from imblearn.over_sampling import SMOTE\n",
        "sm = SMOTE(random_state = 0)\n",
        "X_train2, y_train2 = sm.fit_resample(X, y.values.ravel())\n",
        "  \n",
        "print('After OverSampling, the shape of train_X: {}'.format(X_train2.shape))\n",
        "print('After OverSampling, the shape of train_y: {} \\n'.format(y_train2.shape))\n",
        "  \n",
        "print(\"After OverSampling, counts of label '1': {}\".format(sum(y_train2 == 1)))\n",
        "print(\"After OverSampling, counts of label '0': {}\".format(sum(y_train2 == 0)))\n"
      ],
      "metadata": {
        "colab": {
          "base_uri": "https://localhost:8080/"
        },
        "id": "6FYGiOjxLAq7",
        "outputId": "f6c3da1e-323b-420f-c4a5-ce848f5dc278"
      },
      "execution_count": null,
      "outputs": [
        {
          "output_type": "stream",
          "name": "stdout",
          "text": [
            "After OverSampling, the shape of train_X: (1261224, 6)\n",
            "After OverSampling, the shape of train_y: (1261224,) \n",
            "\n",
            "After OverSampling, counts of label '1': 630612\n",
            "After OverSampling, counts of label '0': 630612\n"
          ]
        }
      ]
    },
    {
      "cell_type": "code",
      "source": [
        "sm = SMOTE(random_state=2)\n",
        "X_train, X_test, y_train, y_test = train_test_split(X, y, test_size=0.3, random_state=0)\n",
        "columns = X_train.columns\n",
        "sm_data_X,sm_data_y=sm.fit_resample(X_train, y_train)\n",
        "sm_data_X = pd.DataFrame(data=sm_data_X,columns=columns )\n",
        "sm_data_y= pd.DataFrame(data=sm_data_y,columns=['y'])"
      ],
      "metadata": {
        "id": "Rpk1zK5tLFxM"
      },
      "execution_count": null,
      "outputs": []
    },
    {
      "cell_type": "code",
      "source": [
        "(sm_data_X.shape, sm_data_y.shape)"
      ],
      "metadata": {
        "colab": {
          "base_uri": "https://localhost:8080/"
        },
        "id": "RLW30mpGLULX",
        "outputId": "125a60ba-c702-4377-c41f-2de17a8c3bf1"
      },
      "execution_count": null,
      "outputs": [
        {
          "output_type": "execute_result",
          "data": {
            "text/plain": [
              "((882928, 6), (882928, 1))"
            ]
          },
          "metadata": {},
          "execution_count": 59
        }
      ]
    },
    {
      "cell_type": "code",
      "source": [
        "import statsmodels.api as sm\n",
        "logit_model=sm.Logit(y_train2.astype(float),X_train2.astype(float))\n",
        "result=logit_model.fit()\n",
        "print(result.summary2())"
      ],
      "metadata": {
        "colab": {
          "base_uri": "https://localhost:8080/"
        },
        "id": "pCzIlUEqLZ6w",
        "outputId": "4f5b148e-dd65-4c03-8f86-6e401afb7579"
      },
      "execution_count": null,
      "outputs": [
        {
          "output_type": "stream",
          "name": "stdout",
          "text": [
            "Optimization terminated successfully.\n",
            "         Current function value: 0.615294\n",
            "         Iterations 6\n",
            "                              Results: Logit\n",
            "==========================================================================\n",
            "Model:                 Logit              Pseudo R-squared:   0.112       \n",
            "Dependent Variable:    y                  AIC:                1552060.3466\n",
            "Date:                  2022-07-12 16:13   BIC:                1552132.6322\n",
            "No. Observations:      1261224            Log-Likelihood:     -7.7602e+05 \n",
            "Df Model:              5                  LL-Null:            -8.7421e+05 \n",
            "Df Residuals:          1261218            LLR p-value:        0.0000      \n",
            "Converged:             1.0000             Scale:              1.0000      \n",
            "No. Iterations:        6.0000                                             \n",
            "--------------------------------------------------------------------------\n",
            "                          Coef.  Std.Err.     z     P>|z|   [0.025  0.975]\n",
            "--------------------------------------------------------------------------\n",
            "transactionAmount         0.0034   0.0000  262.2568 0.0000  0.0034  0.0034\n",
            "posEntryMode_05          -0.9321   0.0048 -193.6897 0.0000 -0.9415 -0.9226\n",
            "posEntryMode_09           0.2431   0.0044   55.3505 0.0000  0.2345  0.2518\n",
            "posConditionCode_08      -0.8697   0.0058 -150.4074 0.0000 -0.8810 -0.8584\n",
            "posConditionCode_99      -1.4836   0.0310  -47.8392 0.0000 -1.5444 -1.4228\n",
            "transactionType_PURCHASE -0.2981   0.0040  -74.7256 0.0000 -0.3059 -0.2903\n",
            "==========================================================================\n",
            "\n"
          ]
        }
      ]
    },
    {
      "cell_type": "code",
      "source": [
        "lr1 = LogisticRegression()\n",
        "lr1.fit(X_train2, y_train2.ravel())\n",
        "predictions = lr1.predict(X_test)\n",
        "  \n",
        "# print classification report\n",
        "print(classification_report(y_test, predictions))"
      ],
      "metadata": {
        "colab": {
          "base_uri": "https://localhost:8080/"
        },
        "id": "LzsD2vTYLgCZ",
        "outputId": "59d874b0-49cb-46ff-a1c3-a5b6d6a11d6d"
      },
      "execution_count": null,
      "outputs": [
        {
          "output_type": "stream",
          "name": "stderr",
          "text": [
            "/usr/local/lib/python3.7/dist-packages/sklearn/linear_model/_logistic.py:818: ConvergenceWarning: lbfgs failed to converge (status=1):\n",
            "STOP: TOTAL NO. of ITERATIONS REACHED LIMIT.\n",
            "\n",
            "Increase the number of iterations (max_iter) or scale the data as shown in:\n",
            "    https://scikit-learn.org/stable/modules/preprocessing.html\n",
            "Please also refer to the documentation for alternative solver options:\n",
            "    https://scikit-learn.org/stable/modules/linear_model.html#logistic-regression\n",
            "  extra_warning_msg=_LOGISTIC_SOLVER_CONVERGENCE_MSG,\n"
          ]
        },
        {
          "output_type": "stream",
          "name": "stdout",
          "text": [
            "              precision    recall  f1-score   support\n",
            "\n",
            "           0       0.99      0.63      0.77    189148\n",
            "           1       0.03      0.67      0.06      3427\n",
            "\n",
            "    accuracy                           0.63    192575\n",
            "   macro avg       0.51      0.65      0.41    192575\n",
            "weighted avg       0.97      0.63      0.75    192575\n",
            "\n"
          ]
        }
      ]
    },
    {
      "cell_type": "code",
      "source": [
        "yhat1 = lr1.predict(X_test)\n",
        "prediction = list(map(round, yhat1))\n",
        "# confusion matrix\n",
        "cm1 = confusion_matrix(y_test, prediction)\n",
        "cm1 = pd.DataFrame(data=cm1, columns=['Actual Positive:1', 'Actual Negative:0'], \n",
        "                                 index=['Predict Positive:1', 'Predict Negative:0'])\n",
        "sns.heatmap(cm1, annot=True, fmt='d', cmap='YlGnBu')\n",
        "\n",
        "# accuracy score of the model\n",
        "print('Test accuracy = ', accuracy_score(y_test, prediction))"
      ],
      "metadata": {
        "colab": {
          "base_uri": "https://localhost:8080/",
          "height": 282
        },
        "id": "l-5f4OA1LonP",
        "outputId": "6ee4cf7d-f621-40f6-b27f-415c4b029eef"
      },
      "execution_count": null,
      "outputs": [
        {
          "output_type": "stream",
          "name": "stdout",
          "text": [
            "Test accuracy =  0.6270388160456964\n"
          ]
        },
        {
          "output_type": "display_data",
          "data": {
            "text/plain": [
              "<Figure size 432x288 with 2 Axes>"
            ],
            "image/png": "[encoded data removed]"
          },
          "metadata": {
            "needs_background": "light"
          }
        }
      ]
    }
  ]
}